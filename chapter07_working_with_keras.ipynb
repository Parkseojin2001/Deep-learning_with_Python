{
  "nbformat": 4,
  "nbformat_minor": 0,
  "metadata": {
    "colab": {
      "provenance": [],
      "gpuType": "T4",
      "authorship_tag": "ABX9TyMiA6SYqRSPzJpv5WUVcFtc",
      "include_colab_link": true
    },
    "kernelspec": {
      "name": "python3",
      "display_name": "Python 3"
    },
    "language_info": {
      "name": "python"
    },
    "accelerator": "GPU"
  },
  "cells": [
    {
      "cell_type": "markdown",
      "metadata": {
        "id": "view-in-github",
        "colab_type": "text"
      },
      "source": [
        "<a href=\"https://colab.research.google.com/github/Parkseojin2001/Deep-learning_with_Python/blob/main/chapter07_working_with_keras.ipynb\" target=\"_parent\"><img src=\"https://colab.research.google.com/assets/colab-badge.svg\" alt=\"Open In Colab\"/></a>"
      ]
    },
    {
      "cell_type": "markdown",
      "source": [
        "## 7.2 케라스 모델을 만드는 여러 방법"
      ],
      "metadata": {
        "id": "x3efZ9bizHf0"
      }
    },
    {
      "cell_type": "markdown",
      "source": [
        "### 7.2.1 Sequential 모델"
      ],
      "metadata": {
        "id": "fGTjojePzYMl"
      }
    },
    {
      "cell_type": "code",
      "source": [
        "from tensorflow import keras\n",
        "from tensorflow.keras import layers"
      ],
      "metadata": {
        "id": "LxafqFJMzfzO"
      },
      "execution_count": 1,
      "outputs": []
    },
    {
      "cell_type": "code",
      "execution_count": 2,
      "metadata": {
        "id": "H6A0NwPry6DQ"
      },
      "outputs": [],
      "source": [
        "# Sequential 클래스\n",
        "\n",
        "model = keras.Sequential([\n",
        "\t\tlayers.Dense(64, activation=\"relu\"),\n",
        "\t\tlayers.Dense(10, activation=\"softmax\")\n",
        "])"
      ]
    },
    {
      "cell_type": "code",
      "source": [
        "# 점진적으로 Sequential 모델 만들기\n",
        "\n",
        "model = keras.Sequential()\n",
        "model.add(layers.Dense(64, activation=\"relu\"))\n",
        "model.add(layers.Dense(10, activation=\"softmax\"))"
      ],
      "metadata": {
        "id": "v0BBAC8_zjT-"
      },
      "execution_count": 3,
      "outputs": []
    },
    {
      "cell_type": "code",
      "source": [
        "# 가중치를 만들기 위해 모델을 호출한다.\n",
        "\n",
        "model.build(input_shape=(None, 3))\n",
        "model.weights"
      ],
      "metadata": {
        "colab": {
          "base_uri": "https://localhost:8080/"
        },
        "id": "afn88gjxzpLe",
        "outputId": "8fe5db3c-152f-484a-a34c-a746ee1cbfdb"
      },
      "execution_count": 4,
      "outputs": [
        {
          "output_type": "execute_result",
          "data": {
            "text/plain": [
              "[<tf.Variable 'dense_2/kernel:0' shape=(3, 64) dtype=float32, numpy=\n",
              " array([[ 0.03892046, -0.09757067,  0.2660538 , -0.19654539,  0.08814126,\n",
              "         -0.16563006,  0.18725625,  0.10291255, -0.11780538,  0.09687981,\n",
              "          0.21320403, -0.00157249,  0.24366689, -0.18816978,  0.01243401,\n",
              "         -0.08987057,  0.20605981,  0.19151849, -0.01067671, -0.04014063,\n",
              "          0.26696026,  0.05424559,  0.10028002,  0.00894648,  0.09665409,\n",
              "         -0.01360673, -0.2077705 ,  0.11185586,  0.09990931,  0.01155522,\n",
              "          0.16613898, -0.0636148 , -0.04517207,  0.04611334, -0.23780805,\n",
              "          0.15043932, -0.26049682, -0.02300933, -0.16267543,  0.18264335,\n",
              "          0.17726853, -0.06164061,  0.2069996 ,  0.2720729 ,  0.2172153 ,\n",
              "         -0.06142344, -0.20022729,  0.20698965, -0.28568017,  0.17205682,\n",
              "         -0.0181371 , -0.15662152, -0.28198344, -0.15645991, -0.17325824,\n",
              "          0.03982764,  0.27258825,  0.1740166 , -0.01551014, -0.16388655,\n",
              "          0.25544327, -0.04013813, -0.18711069, -0.18060124],\n",
              "        [ 0.00643054,  0.25759685,  0.06797349,  0.20635837, -0.04000622,\n",
              "          0.08802867,  0.02767396,  0.2581473 , -0.17308287,  0.2736035 ,\n",
              "         -0.02227145, -0.15050426, -0.29339653, -0.08246614, -0.01852506,\n",
              "         -0.12227793, -0.25244847,  0.037191  , -0.01868111,  0.24535191,\n",
              "          0.2072869 ,  0.15555346, -0.24455023,  0.08834332, -0.13587177,\n",
              "          0.07415152,  0.09903508,  0.05913931, -0.2503425 , -0.1374247 ,\n",
              "          0.18501246, -0.21478766, -0.13802603, -0.17388974,  0.10360959,\n",
              "         -0.10110088,  0.27522773, -0.25542787, -0.25953898, -0.09412581,\n",
              "         -0.2831245 , -0.2315194 ,  0.27577972,  0.29697406,  0.06143364,\n",
              "         -0.09665793,  0.22333145, -0.17709567, -0.08066641, -0.15356621,\n",
              "         -0.07455678, -0.1522365 , -0.19358513, -0.12882648,  0.04226479,\n",
              "          0.1255221 ,  0.2866509 , -0.13230397,  0.17590937,  0.17195103,\n",
              "         -0.01646528, -0.00054038, -0.18753172,  0.24287528],\n",
              "        [-0.19622904, -0.10919981, -0.07556349, -0.01129195,  0.23789197,\n",
              "         -0.25533104, -0.02877697, -0.21752739,  0.10111535,  0.08123025,\n",
              "          0.14705327,  0.22454035, -0.2619341 ,  0.15669423, -0.2101525 ,\n",
              "         -0.04661292, -0.19075319,  0.18090633, -0.23237687, -0.096792  ,\n",
              "         -0.23582602,  0.11388078, -0.2785004 ,  0.23339564, -0.04190683,\n",
              "          0.2662667 ,  0.16482192,  0.2492953 ,  0.2516247 ,  0.2556522 ,\n",
              "          0.2708242 ,  0.10923162,  0.21947294,  0.1186502 ,  0.15943176,\n",
              "         -0.20722362, -0.10984258, -0.15988638,  0.06095853, -0.23663545,\n",
              "         -0.11941133, -0.05186324,  0.04109135,  0.16984642,  0.06618708,\n",
              "         -0.29845223,  0.2011562 , -0.26195893, -0.14066866,  0.280949  ,\n",
              "         -0.00350451,  0.03461257,  0.05479082, -0.07807499,  0.0476177 ,\n",
              "          0.22208452, -0.06130406, -0.09424753,  0.2565059 ,  0.24336606,\n",
              "         -0.07588819, -0.24386951,  0.18128496,  0.10033903]],\n",
              "       dtype=float32)>,\n",
              " <tf.Variable 'dense_2/bias:0' shape=(64,) dtype=float32, numpy=\n",
              " array([0., 0., 0., 0., 0., 0., 0., 0., 0., 0., 0., 0., 0., 0., 0., 0., 0.,\n",
              "        0., 0., 0., 0., 0., 0., 0., 0., 0., 0., 0., 0., 0., 0., 0., 0., 0.,\n",
              "        0., 0., 0., 0., 0., 0., 0., 0., 0., 0., 0., 0., 0., 0., 0., 0., 0.,\n",
              "        0., 0., 0., 0., 0., 0., 0., 0., 0., 0., 0., 0., 0.], dtype=float32)>,\n",
              " <tf.Variable 'dense_3/kernel:0' shape=(64, 10) dtype=float32, numpy=\n",
              " array([[ 0.25472465, -0.2838389 , -0.05027804, -0.27057576, -0.09817506,\n",
              "          0.1262173 , -0.02618313, -0.14633265, -0.2657886 ,  0.26008847],\n",
              "        [-0.08409874, -0.1836639 ,  0.23828748,  0.11797777,  0.12365967,\n",
              "          0.18154413, -0.04285437,  0.11063603,  0.27929148,  0.16544253],\n",
              "        [-0.25544927, -0.16497016,  0.03876996,  0.1756149 , -0.15235618,\n",
              "          0.08652169, -0.09553505,  0.2702537 , -0.232654  ,  0.13122168],\n",
              "        [-0.21351968,  0.28359672,  0.06097633, -0.0213716 , -0.16020414,\n",
              "          0.27878448,  0.2765858 ,  0.16531652,  0.2204571 , -0.14582613],\n",
              "        [-0.16540113, -0.10333517,  0.15832642,  0.05099595, -0.06117654,\n",
              "          0.01499534, -0.12923466, -0.2559466 ,  0.13649586, -0.00993109],\n",
              "        [-0.23563148, -0.0617667 ,  0.12081015,  0.12742445, -0.09213252,\n",
              "          0.21574417,  0.16188502, -0.07512292, -0.27153313,  0.1283024 ],\n",
              "        [ 0.26891008,  0.22614995, -0.28043106, -0.14969431, -0.13049732,\n",
              "          0.07502753, -0.25263485,  0.2754241 , -0.27040136,  0.11013222],\n",
              "        [ 0.15559617,  0.09641743, -0.11410876, -0.08945309, -0.09445569,\n",
              "         -0.066156  , -0.02290949, -0.17366138,  0.03458223,  0.09364402],\n",
              "        [ 0.1367091 , -0.20858407, -0.10699534,  0.17024529,  0.01088464,\n",
              "          0.16449806,  0.05379212,  0.03460225,  0.12027797,  0.06937495],\n",
              "        [-0.21217282,  0.02827594,  0.17916971, -0.19113725,  0.20174256,\n",
              "         -0.11806819, -0.02742827, -0.08277218, -0.22236942, -0.06709762],\n",
              "        [ 0.20601419, -0.17977813, -0.16401076,  0.06159663, -0.13055299,\n",
              "         -0.234153  , -0.03661244,  0.15942803, -0.17367585,  0.04897946],\n",
              "        [-0.02606764, -0.19733459, -0.21609172, -0.267365  ,  0.02688435,\n",
              "         -0.11067507,  0.19264066, -0.15891337,  0.07244322,  0.08653682],\n",
              "        [ 0.12637448, -0.11903228,  0.02071235, -0.02307019, -0.23092121,\n",
              "          0.15129378, -0.03883193,  0.00502712, -0.20294148,  0.19935414],\n",
              "        [-0.22952195, -0.14121523,  0.04922208,  0.07282624,  0.25543937,\n",
              "          0.03547639,  0.15973172,  0.20655832,  0.13847733,  0.21202719],\n",
              "        [ 0.10737002, -0.19381243, -0.2300984 ,  0.26116338, -0.28002694,\n",
              "          0.20992494,  0.08576441, -0.20945868,  0.08769524, -0.14468858],\n",
              "        [-0.13837992, -0.25021616, -0.02139944,  0.18731618,  0.02324522,\n",
              "         -0.20628738, -0.1938042 ,  0.08499676, -0.04609823,  0.21349165],\n",
              "        [-0.09849122, -0.2352528 ,  0.21773711,  0.25636336, -0.2203263 ,\n",
              "         -0.05844319,  0.21263272, -0.26405194,  0.27606705, -0.1506377 ],\n",
              "        [ 0.26856378,  0.03952107, -0.06550921,  0.17170706, -0.25072545,\n",
              "         -0.18321869, -0.03184241, -0.22897312,  0.15367988, -0.01568854],\n",
              "        [ 0.23104504, -0.00174469, -0.16350031, -0.252548  ,  0.04638529,\n",
              "         -0.00262508, -0.11075892, -0.26937553, -0.13160615,  0.24348566],\n",
              "        [ 0.15410846, -0.09746692,  0.23370573, -0.07824574,  0.21676823,\n",
              "          0.18258092,  0.07436737,  0.1378051 ,  0.11153358,  0.11934933],\n",
              "        [ 0.00404271, -0.02170387,  0.2806081 ,  0.03092259,  0.18684822,\n",
              "         -0.15913965, -0.24361837,  0.08386233,  0.1238499 ,  0.05202183],\n",
              "        [-0.15743807, -0.09784988,  0.01632962,  0.19421914, -0.06672585,\n",
              "         -0.11568718,  0.12877062, -0.11650586,  0.27916285, -0.10380387],\n",
              "        [-0.07616827, -0.11629643, -0.01527587,  0.10573348, -0.04138803,\n",
              "          0.05048171,  0.24222764, -0.19765475, -0.21681453, -0.06622469],\n",
              "        [-0.24362026,  0.1520367 , -0.01420233,  0.23301664, -0.18912958,\n",
              "         -0.2727353 , -0.09531116, -0.10967126,  0.27310285,  0.14762539],\n",
              "        [ 0.27700981, -0.09696561, -0.16713643,  0.11413369, -0.14810611,\n",
              "          0.24623188, -0.03383341,  0.20254254, -0.22082874, -0.2286681 ],\n",
              "        [-0.0970109 ,  0.03840852, -0.00704592, -0.21611337, -0.12561752,\n",
              "         -0.02928063,  0.08229512,  0.04443911, -0.05472612,  0.04740599],\n",
              "        [-0.01795742, -0.03298289, -0.08265603,  0.20472348, -0.03779669,\n",
              "         -0.24861221,  0.25583902, -0.07499366,  0.24738857, -0.23715165],\n",
              "        [-0.04161139,  0.03476673,  0.01848763, -0.04099326,  0.20007479,\n",
              "          0.21634337, -0.26505637, -0.27552363,  0.14223275,  0.22554079],\n",
              "        [-0.01931018,  0.18753847,  0.05440223,  0.21379626, -0.23852655,\n",
              "          0.05921298, -0.17296906,  0.14603952, -0.2204574 , -0.20732643],\n",
              "        [-0.16741261,  0.11492363, -0.07020856,  0.13033491,  0.14406046,\n",
              "          0.2644665 , -0.07414816,  0.21139678,  0.06757665,  0.20078838],\n",
              "        [-0.22574425,  0.00374973, -0.0073593 ,  0.16622728, -0.20869826,\n",
              "          0.1217137 ,  0.02602255,  0.14046854, -0.15327613,  0.06152907],\n",
              "        [ 0.08882421,  0.09994152,  0.0393354 , -0.15138827,  0.0585216 ,\n",
              "          0.00227836, -0.17342779,  0.25443813, -0.07676807, -0.10193054],\n",
              "        [-0.19650206, -0.07959762, -0.12373944, -0.17967507, -0.12406069,\n",
              "         -0.16335896, -0.25894356, -0.21252204, -0.20894232,  0.00187251],\n",
              "        [ 0.1101211 ,  0.06871942,  0.10392323, -0.08981052,  0.24310306,\n",
              "         -0.02866119,  0.21255103, -0.2518502 , -0.00695539, -0.16807818],\n",
              "        [ 0.00500527,  0.02568033, -0.18652731,  0.21775177, -0.2804948 ,\n",
              "          0.09050775,  0.2544714 ,  0.262805  , -0.09052451, -0.1481241 ],\n",
              "        [-0.01903054,  0.09194618,  0.06834638,  0.2814459 , -0.02702662,\n",
              "         -0.00949624,  0.15504587, -0.16804811, -0.24232554, -0.14742193],\n",
              "        [-0.01174378,  0.1459057 ,  0.2618625 , -0.11866772,  0.19565013,\n",
              "          0.06204945, -0.19145513, -0.09623832, -0.16636238, -0.03152904],\n",
              "        [-0.08457071,  0.02517366, -0.05701861, -0.2456843 ,  0.04764211,\n",
              "          0.27644733,  0.01272866,  0.19732365,  0.20045707,  0.11998564],\n",
              "        [-0.22638343,  0.14873421, -0.15141334,  0.08415082, -0.27771917,\n",
              "          0.15638062, -0.09617071,  0.0033994 , -0.04679471,  0.26447484],\n",
              "        [ 0.1217564 , -0.16088535, -0.27612257,  0.1082527 ,  0.17620009,\n",
              "         -0.00861403,  0.07697174,  0.253863  , -0.04194322,  0.21310467],\n",
              "        [ 0.13230988, -0.0478324 , -0.18310428, -0.1012782 ,  0.22708502,\n",
              "         -0.03552486, -0.11140902,  0.10156658,  0.16971818, -0.22113717],\n",
              "        [-0.15172793,  0.21013838, -0.01419139, -0.14355598,  0.07609135,\n",
              "          0.09576893, -0.0283367 ,  0.24950406, -0.11628807,  0.11984825],\n",
              "        [ 0.11022836, -0.16304266,  0.15680575,  0.25170943,  0.14060369,\n",
              "          0.0193809 ,  0.09388053,  0.11610687, -0.02583504,  0.05679289],\n",
              "        [-0.07273832,  0.19295269, -0.28041688,  0.15430221, -0.00153607,\n",
              "          0.08287871, -0.22307289,  0.25028667, -0.24484152,  0.00898483],\n",
              "        [-0.05290194, -0.00402039,  0.05014518, -0.23350635,  0.26064417,\n",
              "          0.2363461 ,  0.2261621 ,  0.12775135,  0.1019575 ,  0.17309588],\n",
              "        [ 0.10135818,  0.16493365,  0.0073331 ,  0.17610845, -0.16440913,\n",
              "          0.12977144,  0.24320349,  0.13784894,  0.04914531,  0.26576498],\n",
              "        [-0.27793825,  0.17719603, -0.1991851 , -0.08990441,  0.04104927,\n",
              "         -0.13244471,  0.08070701,  0.11589575,  0.01972184,  0.23155007],\n",
              "        [ 0.11246273,  0.1535415 , -0.03057221, -0.17399602, -0.23705247,\n",
              "          0.25303748,  0.17894337,  0.09512392, -0.03867756,  0.07164454],\n",
              "        [ 0.01366675,  0.13406733, -0.25300926,  0.03188723,  0.19261697,\n",
              "          0.26240435,  0.03444725, -0.09306906,  0.02783778,  0.16972035],\n",
              "        [-0.27669832, -0.04595065,  0.2650942 ,  0.06382319,  0.27334145,\n",
              "          0.26473477,  0.24795124, -0.01203862,  0.2550309 ,  0.1542511 ],\n",
              "        [ 0.06246704,  0.19176245,  0.02718353, -0.21708134, -0.09880589,\n",
              "         -0.04121606,  0.08697996, -0.27341527,  0.17630106, -0.14881447],\n",
              "        [ 0.05714318,  0.25090227, -0.213779  , -0.09382133,  0.21076113,\n",
              "         -0.15288645,  0.26930073, -0.2601866 ,  0.26061967,  0.12704638],\n",
              "        [ 0.07175392,  0.02959231, -0.04974531,  0.04300997,  0.2248458 ,\n",
              "          0.08965206, -0.17660621, -0.11053862, -0.26424205,  0.15716943],\n",
              "        [ 0.09191826, -0.05328816, -0.28090927,  0.24613121, -0.09839143,\n",
              "         -0.21688643, -0.23170994, -0.2478725 ,  0.26484266,  0.13282368],\n",
              "        [-0.27101398, -0.2537178 ,  0.13388368, -0.10059293,  0.16353023,\n",
              "         -0.03936072,  0.10126218,  0.2664236 ,  0.06934583, -0.2442149 ],\n",
              "        [-0.01847681,  0.14346209, -0.04677862, -0.18790764, -0.09867296,\n",
              "          0.01683474,  0.08865666, -0.2608129 , -0.26938817, -0.2792211 ],\n",
              "        [ 0.08929598, -0.26116958,  0.19368058, -0.00990292, -0.03568053,\n",
              "          0.00589013, -0.0182606 , -0.01004121,  0.17654803,  0.02172491],\n",
              "        [ 0.06666163,  0.08111739, -0.08212066, -0.25766346,  0.25563416,\n",
              "          0.22214845,  0.18117467,  0.15113837,  0.2591512 , -0.13425721],\n",
              "        [ 0.10044357,  0.06526983, -0.1795232 , -0.03026208, -0.20464468,\n",
              "         -0.25226077, -0.24278462, -0.05269536,  0.16926876, -0.23557669],\n",
              "        [-0.12391737, -0.03787619, -0.08206573, -0.08485787, -0.12056047,\n",
              "          0.21810308, -0.04355288,  0.25088736, -0.15347546,  0.22555968],\n",
              "        [-0.09954947, -0.22654888,  0.05532083,  0.22125944,  0.19357353,\n",
              "         -0.27175212, -0.25900745, -0.02850145,  0.16263735, -0.13541771],\n",
              "        [-0.06579374,  0.14469618, -0.15514153, -0.23437256,  0.26086727,\n",
              "         -0.14928141,  0.19416857,  0.06125197, -0.05918385,  0.2310938 ],\n",
              "        [-0.2154017 ,  0.14490718,  0.17634368,  0.1927228 , -0.24422577,\n",
              "         -0.12146495, -0.00747499,  0.27636847,  0.21946302,  0.15775633],\n",
              "        [-0.12519844, -0.17474395,  0.00511917, -0.24455237,  0.27147982,\n",
              "          0.24511495, -0.09544477,  0.26907513,  0.0141975 ,  0.03579995]],\n",
              "       dtype=float32)>,\n",
              " <tf.Variable 'dense_3/bias:0' shape=(10,) dtype=float32, numpy=array([0., 0., 0., 0., 0., 0., 0., 0., 0., 0.], dtype=float32)>]"
            ]
          },
          "metadata": {},
          "execution_count": 4
        }
      ]
    },
    {
      "cell_type": "code",
      "source": [
        "# summary() 메서드\n",
        "\n",
        "model.summary()"
      ],
      "metadata": {
        "colab": {
          "base_uri": "https://localhost:8080/"
        },
        "id": "kJfkfrim0gye",
        "outputId": "9c7cf77f-e0a5-4fb0-b287-360420c4a3d6"
      },
      "execution_count": 5,
      "outputs": [
        {
          "output_type": "stream",
          "name": "stdout",
          "text": [
            "Model: \"sequential_1\"\n",
            "_________________________________________________________________\n",
            " Layer (type)                Output Shape              Param #   \n",
            "=================================================================\n",
            " dense_2 (Dense)             (None, 64)                256       \n",
            "                                                                 \n",
            " dense_3 (Dense)             (None, 10)                650       \n",
            "                                                                 \n",
            "=================================================================\n",
            "Total params: 906 (3.54 KB)\n",
            "Trainable params: 906 (3.54 KB)\n",
            "Non-trainable params: 0 (0.00 Byte)\n",
            "_________________________________________________________________\n"
          ]
        }
      ]
    },
    {
      "cell_type": "code",
      "source": [
        "# name 매개변수로 모델과 층에 이름 지정하기\n",
        "\n",
        "model = keras.Sequential(name=\"my_example_model\")\n",
        "model.add(layers.Dense(64, activation=\"relu\", name=\"my_first_layer\"))\n",
        "model.add(layers.Dense(10, activation=\"softmax\", name=\"my_last_layer\"))\n",
        "model.build((None, 3))\n",
        "model.summary()"
      ],
      "metadata": {
        "colab": {
          "base_uri": "https://localhost:8080/"
        },
        "id": "pRRHQRmM1Cry",
        "outputId": "208468fc-320d-4a11-b8c9-935b9d1fd2bd"
      },
      "execution_count": 6,
      "outputs": [
        {
          "output_type": "stream",
          "name": "stdout",
          "text": [
            "Model: \"my_example_model\"\n",
            "_________________________________________________________________\n",
            " Layer (type)                Output Shape              Param #   \n",
            "=================================================================\n",
            " my_first_layer (Dense)      (None, 64)                256       \n",
            "                                                                 \n",
            " my_last_layer (Dense)       (None, 10)                650       \n",
            "                                                                 \n",
            "=================================================================\n",
            "Total params: 906 (3.54 KB)\n",
            "Trainable params: 906 (3.54 KB)\n",
            "Non-trainable params: 0 (0.00 Byte)\n",
            "_________________________________________________________________\n"
          ]
        }
      ]
    },
    {
      "cell_type": "code",
      "source": [
        "# 모델의 입력 크기를 미리 지정하기\n",
        "\n",
        "model = keras.Sequential()\n",
        "model.add(keras.Input(shape=(3,))) # 배치 크기가 아니라 각 샘플의 크기이어야 함\n",
        "model.add(layers.Dense(64, activation=\"relu\"))"
      ],
      "metadata": {
        "id": "yvOlht5D1EfF"
      },
      "execution_count": 7,
      "outputs": []
    },
    {
      "cell_type": "code",
      "source": [
        "model.summary()"
      ],
      "metadata": {
        "colab": {
          "base_uri": "https://localhost:8080/"
        },
        "id": "28CcaNLU2J8e",
        "outputId": "c4aaec06-3c22-4e14-b74b-a066bfa4e05b"
      },
      "execution_count": 8,
      "outputs": [
        {
          "output_type": "stream",
          "name": "stdout",
          "text": [
            "Model: \"sequential_2\"\n",
            "_________________________________________________________________\n",
            " Layer (type)                Output Shape              Param #   \n",
            "=================================================================\n",
            " dense_4 (Dense)             (None, 64)                256       \n",
            "                                                                 \n",
            "=================================================================\n",
            "Total params: 256 (1.00 KB)\n",
            "Trainable params: 256 (1.00 KB)\n",
            "Non-trainable params: 0 (0.00 Byte)\n",
            "_________________________________________________________________\n"
          ]
        }
      ]
    },
    {
      "cell_type": "markdown",
      "source": [
        "### 7.2.2 함수형 API"
      ],
      "metadata": {
        "id": "xZ0aMfTq28Zo"
      }
    },
    {
      "cell_type": "markdown",
      "source": [
        "#### 간단한 예제"
      ],
      "metadata": {
        "id": "hjSeGJXx9VWP"
      }
    },
    {
      "cell_type": "code",
      "source": [
        "# 2개의 Dense 층을 가진 간단한 함수형 모델\n",
        "\n",
        "inputs = keras.Input(shape=(3,), name=\"my_input\")\n",
        "features = layers.Dense(64, activation=\"relu\")(inputs)\n",
        "outputs = layers.Dense(10, activation=\"softmax\")(features)\n",
        "model = keras.Model(inputs=inputs, outputs=outputs)"
      ],
      "metadata": {
        "id": "tjpfp3QY27nK"
      },
      "execution_count": 9,
      "outputs": []
    },
    {
      "cell_type": "code",
      "source": [
        "# Input 클래스 객체를 정의\n",
        "\n",
        "inputs = keras.Input(shape=(3,), name=\"my_input\")"
      ],
      "metadata": {
        "id": "_gcywoN_3oj5"
      },
      "execution_count": 10,
      "outputs": []
    },
    {
      "cell_type": "code",
      "source": [
        "inputs.shape"
      ],
      "metadata": {
        "colab": {
          "base_uri": "https://localhost:8080/"
        },
        "id": "9mfNxSlk3tDy",
        "outputId": "50dcd021-a09e-4824-bf28-4cb9a8ee4a72"
      },
      "execution_count": 11,
      "outputs": [
        {
          "output_type": "execute_result",
          "data": {
            "text/plain": [
              "TensorShape([None, 3])"
            ]
          },
          "metadata": {},
          "execution_count": 11
        }
      ]
    },
    {
      "cell_type": "code",
      "source": [
        "inputs.dtype"
      ],
      "metadata": {
        "colab": {
          "base_uri": "https://localhost:8080/"
        },
        "id": "KH-rX0Q_4VEY",
        "outputId": "0da7e3f0-705c-4cf3-b71d-19612385569b"
      },
      "execution_count": 12,
      "outputs": [
        {
          "output_type": "execute_result",
          "data": {
            "text/plain": [
              "tf.float32"
            ]
          },
          "metadata": {},
          "execution_count": 12
        }
      ]
    },
    {
      "cell_type": "code",
      "source": [
        "features = layers.Dense(64, activation=\"relu\")(inputs)"
      ],
      "metadata": {
        "id": "Atv-VRmH4Wq2"
      },
      "execution_count": 13,
      "outputs": []
    },
    {
      "cell_type": "code",
      "source": [
        "features.shape"
      ],
      "metadata": {
        "colab": {
          "base_uri": "https://localhost:8080/"
        },
        "id": "qhubqsbO5bjY",
        "outputId": "9f39c46e-f636-4db3-8583-fc077c2f1c78"
      },
      "execution_count": 14,
      "outputs": [
        {
          "output_type": "execute_result",
          "data": {
            "text/plain": [
              "TensorShape([None, 64])"
            ]
          },
          "metadata": {},
          "execution_count": 14
        }
      ]
    },
    {
      "cell_type": "code",
      "source": [
        "outputs = layers.Dense(10, activation=\"softmax\")(features)\n",
        "model = keras.Model(inputs=inputs, outputs=outputs)"
      ],
      "metadata": {
        "id": "d7a9z_Zr5c5D"
      },
      "execution_count": 15,
      "outputs": []
    },
    {
      "cell_type": "code",
      "source": [
        "model.summary()"
      ],
      "metadata": {
        "colab": {
          "base_uri": "https://localhost:8080/"
        },
        "id": "QYmChh7n6IpR",
        "outputId": "f28aa4b1-923e-4ea0-aa10-f41a2f5db4fa"
      },
      "execution_count": 16,
      "outputs": [
        {
          "output_type": "stream",
          "name": "stdout",
          "text": [
            "Model: \"model_1\"\n",
            "_________________________________________________________________\n",
            " Layer (type)                Output Shape              Param #   \n",
            "=================================================================\n",
            " my_input (InputLayer)       [(None, 3)]               0         \n",
            "                                                                 \n",
            " dense_7 (Dense)             (None, 64)                256       \n",
            "                                                                 \n",
            " dense_8 (Dense)             (None, 10)                650       \n",
            "                                                                 \n",
            "=================================================================\n",
            "Total params: 906 (3.54 KB)\n",
            "Trainable params: 906 (3.54 KB)\n",
            "Non-trainable params: 0 (0.00 Byte)\n",
            "_________________________________________________________________\n"
          ]
        }
      ]
    },
    {
      "cell_type": "markdown",
      "source": [
        "#### 다중 입력, 다중 출력 모델"
      ],
      "metadata": {
        "id": "kknPzMog9ZnX"
      }
    },
    {
      "cell_type": "code",
      "source": [
        "# 다중 입력, 다중 출력 함수형 모델\n",
        "\n",
        "vocabulary_size = 10000\n",
        "num_tags = 100\n",
        "num_departments = 4\n",
        "\n",
        "title = keras.Input(shape=(vocabulary_size,), name=\"title\")\n",
        "text_body = keras.Input(shape=(vocabulary_size,), name=\"text_body\")\n",
        "tags = keras.Input(shape=(num_tags,), name=\"tags\")\n",
        "\n",
        "features = layers.Concatenate()([title, text_body, tags])\n",
        "features = layers.Dense(64, activation=\"relu\")(features)\n",
        "\n",
        "priority = layers.Dense(1, activation=\"sigmoid\", name=\"priority\")(features)\n",
        "department = layers.Dense(\n",
        "    num_departments, activation=\"softmax\", name=\"department\")(features)\n",
        "\n",
        "model = keras.Model(inputs=[title, text_body, tags],\n",
        "                    outputs=[priority, department])\n"
      ],
      "metadata": {
        "id": "odR_XxWY6JpE"
      },
      "execution_count": 17,
      "outputs": []
    },
    {
      "cell_type": "markdown",
      "source": [
        "#### 다중 입력, 다중 출력 모델 훈련하기"
      ],
      "metadata": {
        "id": "S9k6_gfHAW6j"
      }
    },
    {
      "cell_type": "code",
      "source": [
        "import numpy as np"
      ],
      "metadata": {
        "id": "MIyVF8G__cJR"
      },
      "execution_count": 18,
      "outputs": []
    },
    {
      "cell_type": "code",
      "source": [
        "# 입력과 타깃 배열 리스트를 전달하여 모델 훈련하기\n",
        "\n",
        "num_samples = 1280\n",
        "\n",
        "# 더미(dummy) 입력 데이터\n",
        "title_data = np.random.randint(0, 2, size=(num_samples, vocabulary_size))\n",
        "text_body_data = np.random.randint(0, 2, size=(num_samples, vocabulary_size))\n",
        "tags_data = np.random.randint(0, 2, size=(num_samples, num_tags))\n",
        "\n",
        "# 더미(dummy) 타깃 데이터\n",
        "priority_data = np.random.random(size=(num_samples, 1))\n",
        "department_data = np.random.randint(0, 2, size=(num_samples, num_departments))\n",
        "\n",
        "model.compile(optimizer=\"rmsprop\",\n",
        "              loss=[\"mean_squared_error\", \"categorical_crossentropy\"],\n",
        "              metrics=[[\"mean_absolute_error\"], [\"accuracy\"]])\n",
        "model.fit([title_data, text_body_data, tags_data],\n",
        "          [priority_data, department_data],\n",
        "          epochs=1)\n",
        "model.evaluate([title_data, text_body_data, tags_data],\n",
        "               [priority_data, department_data])\n",
        "priority_preds, department_preds = model.predict(\n",
        "    [title_data, text_body_data, tags_data])"
      ],
      "metadata": {
        "colab": {
          "base_uri": "https://localhost:8080/"
        },
        "id": "pwM8ZlIjAisQ",
        "outputId": "9978464e-e70d-4ff6-ef4f-5382cebf1e9b"
      },
      "execution_count": 19,
      "outputs": [
        {
          "output_type": "stream",
          "name": "stdout",
          "text": [
            "40/40 [==============================] - 3s 10ms/step - loss: 21.5235 - priority_loss: 0.3300 - department_loss: 21.1934 - priority_mean_absolute_error: 0.4943 - department_accuracy: 0.3023\n",
            "40/40 [==============================] - 1s 9ms/step - loss: 29.5443 - priority_loss: 0.3331 - department_loss: 29.2111 - priority_mean_absolute_error: 0.4977 - department_accuracy: 0.1219\n",
            "40/40 [==============================] - 0s 4ms/step\n"
          ]
        }
      ]
    },
    {
      "cell_type": "code",
      "source": [
        "# 입력과 타깃 배열을 딕션너리로 전달하여 모델 훈련하기\n",
        "\n",
        "model.compile(optimizer=\"rmsprop\",\n",
        "              loss={\"priority\": \"mean_squared_error\", \"department\":\n",
        "                    \"categorical_crossentropy\"},\n",
        "              metrics={\"priority\": [\"mean_absolute_error\"], \"department\":\n",
        "                       [\"accuracy\"]})\n",
        "model.fit({\"title\": title_data, \"text_body\": text_body_data,\n",
        "           \"tags\": tags_data},\n",
        "          {\"priority\": priority_data, \"department\": department_data},\n",
        "          epochs=1)\n",
        "priority_preds, department_preds = model.predict(\n",
        "    {\"title\": title_data, \"text_body\": text_body_data, \"tags\": tags_data})"
      ],
      "metadata": {
        "colab": {
          "base_uri": "https://localhost:8080/"
        },
        "id": "-AcNhBqGA0oF",
        "outputId": "062e0461-6d33-4b17-c688-7b3994674745"
      },
      "execution_count": 20,
      "outputs": [
        {
          "output_type": "stream",
          "name": "stdout",
          "text": [
            "40/40 [==============================] - 1s 6ms/step - loss: 31.1024 - priority_loss: 0.3331 - department_loss: 30.7693 - priority_mean_absolute_error: 0.4977 - department_accuracy: 0.2641\n",
            "40/40 [==============================] - 0s 5ms/step\n"
          ]
        }
      ]
    },
    {
      "cell_type": "markdown",
      "source": [
        "#### 함수형 API의 장점: 층 연결 구조 활용하기"
      ],
      "metadata": {
        "id": "yrpbuo1HIBje"
      }
    },
    {
      "cell_type": "code",
      "source": [
        "keras.utils.plot_model(model, \"ticket_classifier.png\")"
      ],
      "metadata": {
        "colab": {
          "base_uri": "https://localhost:8080/",
          "height": 369
        },
        "id": "a4m5Q80jA4aS",
        "outputId": "5400a54b-093f-4557-ecd4-d53017270a43"
      },
      "execution_count": 21,
      "outputs": [
        {
          "output_type": "execute_result",
          "data": {
            "image/png": "[encoded data removed]",
            "text/plain": [
              "<IPython.core.display.Image object>"
            ]
          },
          "metadata": {},
          "execution_count": 21
        }
      ]
    },
    {
      "cell_type": "code",
      "source": [
        "# 모델에 있는 각 층의 입출력 크기 추가\n",
        "\n",
        "keras.utils.plot_model(\n",
        "    model, \"ticket_classifier_with_shape_info.png\", show_shapes=True)"
      ],
      "metadata": {
        "colab": {
          "base_uri": "https://localhost:8080/",
          "height": 296
        },
        "id": "nU-I_8dTIQ3s",
        "outputId": "7b50d0d0-e1dd-4727-920a-7e48c64495d2"
      },
      "execution_count": 22,
      "outputs": [
        {
          "output_type": "execute_result",
          "data": {
            "image/png": "[encoded data removed]",
            "text/plain": [
              "<IPython.core.display.Image object>"
            ]
          },
          "metadata": {},
          "execution_count": 22
        }
      ]
    },
    {
      "cell_type": "code",
      "source": [
        "# 함수형 모델에 있는 층의 입력과 출력을 출력하기\n",
        "\n",
        "model.layers"
      ],
      "metadata": {
        "colab": {
          "base_uri": "https://localhost:8080/"
        },
        "id": "0YATy9ucIenu",
        "outputId": "02aebbe1-829d-4219-fc14-12db654a12c0"
      },
      "execution_count": 23,
      "outputs": [
        {
          "output_type": "execute_result",
          "data": {
            "text/plain": [
              "[<keras.src.engine.input_layer.InputLayer at 0x7e9f73e871c0>,\n",
              " <keras.src.engine.input_layer.InputLayer at 0x7e9f73e87550>,\n",
              " <keras.src.engine.input_layer.InputLayer at 0x7e9f73e854b0>,\n",
              " <keras.src.layers.merging.concatenate.Concatenate at 0x7e9f73ca65c0>,\n",
              " <keras.src.layers.core.dense.Dense at 0x7e9f73ca67d0>,\n",
              " <keras.src.layers.core.dense.Dense at 0x7e9f73ca59c0>,\n",
              " <keras.src.layers.core.dense.Dense at 0x7e9f73ca5d80>]"
            ]
          },
          "metadata": {},
          "execution_count": 23
        }
      ]
    },
    {
      "cell_type": "code",
      "source": [
        "model.layers[3].input"
      ],
      "metadata": {
        "colab": {
          "base_uri": "https://localhost:8080/"
        },
        "id": "XmzZ1BuuL4Bk",
        "outputId": "b3687151-a514-4648-c0cc-3cddac9d61b9"
      },
      "execution_count": 24,
      "outputs": [
        {
          "output_type": "execute_result",
          "data": {
            "text/plain": [
              "[<KerasTensor: shape=(None, 10000) dtype=float32 (created by layer 'title')>,\n",
              " <KerasTensor: shape=(None, 10000) dtype=float32 (created by layer 'text_body')>,\n",
              " <KerasTensor: shape=(None, 100) dtype=float32 (created by layer 'tags')>]"
            ]
          },
          "metadata": {},
          "execution_count": 24
        }
      ]
    },
    {
      "cell_type": "code",
      "source": [
        "# 함수형 모델에 있는 층의 입력과 출력을 출력하기\n",
        "\n",
        "model.layers[3].output"
      ],
      "metadata": {
        "colab": {
          "base_uri": "https://localhost:8080/"
        },
        "id": "sN7gTKpSNY7d",
        "outputId": "b1d97cd9-7bab-42b7-9601-eeaaacd79c2a"
      },
      "execution_count": 25,
      "outputs": [
        {
          "output_type": "execute_result",
          "data": {
            "text/plain": [
              "<KerasTensor: shape=(None, 20100) dtype=float32 (created by layer 'concatenate')>"
            ]
          },
          "metadata": {},
          "execution_count": 25
        }
      ]
    },
    {
      "cell_type": "code",
      "source": [
        "# 중간층의 출력을 재사용해서 새로운 모델 만들기\n",
        "\n",
        "features = model.layers[4].output # layers[4]는 중간 Dense 층이다.\n",
        "difficulty = layers.Dense(3, activation=\"softmax\", name=\"difficulty\")(features)\n",
        "new_model = keras.Model(\n",
        "    inputs=[title, text_body, tags],\n",
        "    outputs = [priority, department, difficulty])"
      ],
      "metadata": {
        "id": "pEZLY2IaL8xQ"
      },
      "execution_count": 26,
      "outputs": []
    },
    {
      "cell_type": "code",
      "source": [
        "keras.utils.plot_model(\n",
        "    new_model, \"updated_ticket_classifier.png\", show_shapes=True)"
      ],
      "metadata": {
        "colab": {
          "base_uri": "https://localhost:8080/",
          "height": 296
        },
        "id": "eXIBsWxBN5oA",
        "outputId": "b7e499d7-f135-4a9e-9211-f5a9970a5368"
      },
      "execution_count": 27,
      "outputs": [
        {
          "output_type": "execute_result",
          "data": {
            "image/png": "[encoded data removed]",
            "text/plain": [
              "<IPython.core.display.Image object>"
            ]
          },
          "metadata": {},
          "execution_count": 27
        }
      ]
    },
    {
      "cell_type": "markdown",
      "source": [
        "### 7.2.3 Model 서브클래싱\n",
        "\n"
      ],
      "metadata": {
        "id": "ChEg7qwBP_r-"
      }
    },
    {
      "cell_type": "markdown",
      "source": [
        "#### 이전 예제를 서브클래싱 모델로 다시 만들기"
      ],
      "metadata": {
        "id": "SF1fARDw46rf"
      }
    },
    {
      "cell_type": "code",
      "source": [
        "# 간단한 서브클래싱 모델\n",
        "\n",
        "class CustomerTicketModel(keras.Model):\n",
        "  def __init__(self, num_departments):\n",
        "    super().__init__()    # 부모 클래스의 생성자를 호출\n",
        "    self.concat_layer = layers.Concatenate()    # 생성자에서 층을 정의\n",
        "    self.mixing_layer = layers.Dense(64, activation=\"relu\")\n",
        "    self.priority_scorer = layers.Dense(1, activation=\"sigmoid\")\n",
        "    self.department_classifier = layers.Dense(    # 생성자에서 층을 정의\n",
        "        num_departments, activation=\"softmax\")\n",
        "\n",
        "  def call(self, inputs):   # call() 메서드에서 정방향 패스를 정의\n",
        "    title = inputs[\"title\"]\n",
        "    text_body = inputs[\"text_body\"]\n",
        "    tags = inputs[\"tags\"]\n",
        "    features = self.concat_layer([title, text_body, tags])\n",
        "    features = self.mixing_layer(features)\n",
        "    priority = self.priority_scorer(features)\n",
        "    department = self.department_classifier(features)\n",
        "    return priority, department"
      ],
      "metadata": {
        "id": "Hdo3GcgTOKnP"
      },
      "execution_count": 28,
      "outputs": []
    },
    {
      "cell_type": "code",
      "source": [
        "# 클래스의 객체 생성\n",
        "\n",
        "model = CustomerTicketModel(num_departments=4)\n",
        "priority, department = model(\n",
        "    {\"title\": title_data, \"text_body\": text_body_data, \"tags\": tags_data})"
      ],
      "metadata": {
        "id": "LbQ-3mqBQqdR"
      },
      "execution_count": 29,
      "outputs": []
    },
    {
      "cell_type": "code",
      "source": [
        "# Model을 상속하여 만든 모델 컴파일 + 훈련\n",
        "\n",
        "model.compile(\n",
        "    optimizer=\"rmsprop\",\n",
        "    loss=[\"mean_squared_error\", \"categorical_crossentropy\"],\n",
        "    metrics=[[\"mean_squared_error\"], [\"accuracy\"]])\n",
        "model.fit({\"title\": title_data,\n",
        "           \"text_body\": text_body_data,\n",
        "           \"tags\": tags_data},\n",
        "          [priority_data, department_data],\n",
        "          epochs=1)\n",
        "model.evaluate({\"title\": title_data,\n",
        "                \"text_body\": text_body_data,\n",
        "                \"tags\": tags_data},\n",
        "               [priority_data, department_data])\n",
        "priority_preds, department_preds = model.predict({\"title\": title_data,\n",
        "                                                  \"text_body\": text_body_data,\n",
        "                                                  \"tags\": tags_data})"
      ],
      "metadata": {
        "colab": {
          "base_uri": "https://localhost:8080/"
        },
        "id": "a21P98PKDXF8",
        "outputId": "685a0b79-1b71-464e-a6d8-41fc15ba5574"
      },
      "execution_count": 30,
      "outputs": [
        {
          "output_type": "stream",
          "name": "stdout",
          "text": [
            "40/40 [==============================] - 1s 6ms/step - loss: 29.1326 - output_1_loss: 0.3308 - output_2_loss: 28.8018 - output_1_mean_squared_error: 0.3308 - output_2_accuracy: 0.2836\n",
            "40/40 [==============================] - 0s 5ms/step - loss: 23.1154 - output_1_loss: 0.3331 - output_2_loss: 22.7822 - output_1_mean_squared_error: 0.3331 - output_2_accuracy: 0.4492\n",
            "40/40 [==============================] - 0s 4ms/step\n"
          ]
        }
      ]
    },
    {
      "cell_type": "markdown",
      "source": [
        "### 7.2.4 여러 방식을 혼합하여 사용하기"
      ],
      "metadata": {
        "id": "-YBFTfvXJC69"
      }
    },
    {
      "cell_type": "code",
      "source": [
        "# 서브클래싱한 모델을 포함하는 함수형 모델 만들기\n",
        "\n",
        "class Classifier(keras.Model):\n",
        "  def __init__(self, num_classes=2):\n",
        "    super().__init__()\n",
        "    if num_classes == 2:\n",
        "      num_units = 1\n",
        "      activation = \"sigmoid\"\n",
        "    else:\n",
        "      num_units = num_classes\n",
        "      activation = \"softmax\"\n",
        "    self.dense = layers.Dense(num_units, activation=activation)\n",
        "  def call(self, inputs):\n",
        "    return self.dense(inputs)\n",
        "\n",
        "inputs = keras.Input(shape=(3,))\n",
        "features = layers.Dense(64, activation=\"relu\")(inputs)\n",
        "outputs = Classifier(num_classes=10)(features)\n",
        "model = keras.Model(inputs=inputs, outputs=outputs)"
      ],
      "metadata": {
        "id": "0QvFyuMrEUjq"
      },
      "execution_count": 31,
      "outputs": []
    },
    {
      "cell_type": "code",
      "source": [
        "# 함수형 모델을 포함하는 서브클래싱 모델 만들기\n",
        "\n",
        "inputs = keras.Input(shape=(64,))\n",
        "outputs = layers.Dense(1, activation=\"sigmoid\")(inputs)\n",
        "binary_classifier = keras.Model(inputs=inputs, outputs=outputs)\n",
        "\n",
        "class MyModel(keras.Model):\n",
        "  def __init__(self, num_classes=2):\n",
        "    super().__init__()\n",
        "    self.dense = layers.Dense(64, activation=\"relu\")\n",
        "    self.classifier = binary_classifier\n",
        "  def call(self, inputs):\n",
        "    features = self.dense(inputs)\n",
        "    return self.classifier(features)\n",
        "\n",
        "model = MyModel()"
      ],
      "metadata": {
        "id": "hvdh8NpEJ3UI"
      },
      "execution_count": 32,
      "outputs": []
    },
    {
      "cell_type": "markdown",
      "source": [
        "## 7.3 내장된 훈련 루프와 평가 루프 사용하기"
      ],
      "metadata": {
        "id": "lET5hexFoj8i"
      }
    },
    {
      "cell_type": "code",
      "source": [
        "from tensorflow.keras.datasets import mnist"
      ],
      "metadata": {
        "id": "Bdf9tyb_ov9U"
      },
      "execution_count": 33,
      "outputs": []
    },
    {
      "cell_type": "code",
      "source": [
        "# 표준 워크플로: compile(), fit(), evaluate(), predict()\n",
        "\n",
        "def get_mnist_model():\n",
        "\t\tinputs = keras.Input(shape=(28 * 28,))\n",
        "\t\tfeatures = layers.Dense(512, activation=\"relu\")(inputs)\n",
        "\t\tfeatures = layers.Dropout(0.5)(features)\n",
        "\t\toutputs = layers.Dense(10, activation=\"softmax\")(features)\n",
        "\t\tmodel = keras.Model(inputs, outputs)\n",
        "\t\treturn model\n",
        "\n",
        "(images, labels), (test_images, test_labels) = mnist.load_data()\n",
        "images = images.reshape((60000, 28 * 28)).astype(\"float32\") / 255\n",
        "test_images = test_images.reshape((10000, 28 * 28)).astype(\"float32\") / 255\n",
        "train_images, val_images = images[10000:], images[:10000]\n",
        "train_labels, val_labels = labels[10000:], labels[:10000]\n",
        "\n",
        "model = get_mnist_model()\n",
        "model.compile(optimizer=\"rmsprop\",\n",
        "\t\t\t\t\t\t\t\tloss=\"sparse_categorical_crossentropy\",\n",
        "\t\t\t\t\t\t\t\tmetrics=[\"accuracy\"])\n",
        "model.fit(train_images, train_labels,\n",
        "\t\t\t\t\t\tepochs=3,\n",
        "\t\t\t\t\t\tvalidation_data=(val_images, val_labels))\n",
        "test_metrics = model.evaluate(test_images, test_labels)\n",
        "prediction = model.predict(test_images)"
      ],
      "metadata": {
        "colab": {
          "base_uri": "https://localhost:8080/"
        },
        "id": "yTSdaFQUopz1",
        "outputId": "e805391f-31e3-4242-fa5d-aab627324cd2"
      },
      "execution_count": 34,
      "outputs": [
        {
          "output_type": "stream",
          "name": "stdout",
          "text": [
            "Epoch 1/3\n",
            "1563/1563 [==============================] - 8s 4ms/step - loss: 0.2953 - accuracy: 0.9114 - val_loss: 0.1580 - val_accuracy: 0.9557\n",
            "Epoch 2/3\n",
            "1563/1563 [==============================] - 5s 3ms/step - loss: 0.1624 - accuracy: 0.9536 - val_loss: 0.1159 - val_accuracy: 0.9681\n",
            "Epoch 3/3\n",
            "1563/1563 [==============================] - 6s 4ms/step - loss: 0.1303 - accuracy: 0.9624 - val_loss: 0.1025 - val_accuracy: 0.9723\n",
            "313/313 [==============================] - 1s 2ms/step - loss: 0.0940 - accuracy: 0.9733\n",
            "313/313 [==============================] - 1s 2ms/step\n"
          ]
        }
      ]
    },
    {
      "cell_type": "markdown",
      "source": [
        "### 7.3.1 사용자 정의 지표 만들기"
      ],
      "metadata": {
        "id": "4sfnZ-3Roo11"
      }
    },
    {
      "cell_type": "code",
      "source": [
        "import tensorflow as tf"
      ],
      "metadata": {
        "id": "hiCrB_BtrS3E"
      },
      "execution_count": 35,
      "outputs": []
    },
    {
      "cell_type": "code",
      "source": [
        "# Metric 클래스를 상속하여 사용자 정의 지표 구현하기\n",
        "\n",
        "class RootMeanSquaredError(keras.metrics.Metric):\n",
        "\n",
        "    def __init__(self, name=\"rmse\", **kwargs):\n",
        "        super().__init__(name=name, **kwargs)\n",
        "        self.mse_sum = self.add_weight(name=\"mse_sum\", initializer=\"zeros\")\n",
        "        self.total_samples = self.add_weight(\n",
        "            name=\"total_samples\", initializer=\"zeros\", dtype=\"int32\")\n",
        "\n",
        "    def update_state(self, y_true, y_pred, sample_weight=None):\n",
        "        y_true = tf.one_hot(y_true, depth=tf.shape(y_pred)[1])\n",
        "        mse = tf.reduce_sum(tf.square(y_true - y_pred))\n",
        "        self.mse_sum.assign_add(mse)\n",
        "        num_samples = tf.shape(y_pred)[0]\n",
        "        self.total_samples.assign_add(num_samples)\n",
        "\n",
        "    # 현재 지표 값 반환\n",
        "    def result(self):\n",
        "      return tf.sqrt(self.mse_sum / tf.cast(self.total_samples, tf.float32))\n",
        "\n",
        "    # 객체를 생성하지 않고 초기화 -> 지표 객체 하나를 서로 다른 훈련 반복 & 훈련 평가 모두 사용\n",
        "    def reset_state(self):\n",
        "        self.mse_sum.assign(0.)\n",
        "        self.total_samples.assign(0)"
      ],
      "metadata": {
        "id": "3DRFJCoFKdb2"
      },
      "execution_count": 36,
      "outputs": []
    },
    {
      "cell_type": "code",
      "source": [
        "# 사용자 정의 지표 사용\n",
        "\n",
        "model = get_mnist_model()\n",
        "model.compile(optimizer=\"rmsprop\",\n",
        "              loss=\"sparse_categorical_crossentropy\",\n",
        "              metrics=[\"accuracy\", RootMeanSquaredError()])\n",
        "model.fit(train_images, train_labels,\n",
        "          epochs=3,\n",
        "          validation_data=(val_images, val_labels))\n",
        "test_metrics = model.evaluate(test_images, test_labels)"
      ],
      "metadata": {
        "colab": {
          "base_uri": "https://localhost:8080/"
        },
        "id": "AEMVeYxrvRgI",
        "outputId": "b3357fa7-3fac-4d28-91a6-fa1c8e92d2ac"
      },
      "execution_count": 37,
      "outputs": [
        {
          "output_type": "stream",
          "name": "stdout",
          "text": [
            "Epoch 1/3\n",
            "1563/1563 [==============================] - 8s 4ms/step - loss: 0.2949 - accuracy: 0.9124 - rmse: 7.1792 - val_loss: 0.1425 - val_accuracy: 0.9586 - val_rmse: 7.3459\n",
            "Epoch 2/3\n",
            "1563/1563 [==============================] - 6s 4ms/step - loss: 0.1562 - accuracy: 0.9554 - rmse: 7.3544 - val_loss: 0.1076 - val_accuracy: 0.9706 - val_rmse: 7.4074\n",
            "Epoch 3/3\n",
            "1563/1563 [==============================] - 6s 4ms/step - loss: 0.1275 - accuracy: 0.9638 - rmse: 7.3854 - val_loss: 0.0997 - val_accuracy: 0.9719 - val_rmse: 7.4217\n",
            "313/313 [==============================] - 1s 3ms/step - loss: 0.0892 - accuracy: 0.9749 - rmse: 7.4325\n"
          ]
        }
      ]
    },
    {
      "cell_type": "markdown",
      "source": [
        "### 7.3.2 콜백 사용하기"
      ],
      "metadata": {
        "id": "S_5lyV1x4UaS"
      }
    },
    {
      "cell_type": "markdown",
      "source": [
        "#### ModelCheckpoint와 EalyStopping 콜백"
      ],
      "metadata": {
        "id": "Ilt-yNeB4WkB"
      }
    },
    {
      "cell_type": "code",
      "source": [
        "# fit() 메서드에서 callbacks 매개변수 사용하기\n",
        "callbacks_list = [    # fit 메서드의 callbacks 매개변수를 사용하여 콜백 리스트를 모델에 전달\n",
        "    keras.callbacks.EarlyStopping(  # 성능 향상이 멈추면 stop\n",
        "        monitor=\"val_accuracy\",   # 모델의 검증 정확도 모니터링\n",
        "        patience=2,   # 두 번의 에포크 동안 정확도가 상승하지 않으면 훈련 중지\n",
        "    ),\n",
        "    keras.callbacks.ModelCheckpoint(  # 매 에포크 끝에서 현재 가중치 저장\n",
        "        filepath=\"checkpoint_path.h5\",\n",
        "        monitor=\"val_loss\",\n",
        "        save_best_only=True, # val_loss가 좋아지지 않으면 모델 파일을 덮어쓰지 않음\n",
        "    )\n",
        "]\n",
        "model = get_mnist_model()\n",
        "model.compile(optimizer=\"rmsprop\",\n",
        "              loss=\"sparse_categorical_crossentropy\",\n",
        "              metrics=[\"accuracy\"])\n",
        "model.fit(train_images, train_labels,\n",
        "          epochs=10,\n",
        "          callbacks=callbacks_list,\n",
        "          validation_data=(val_images, val_labels))"
      ],
      "metadata": {
        "colab": {
          "base_uri": "https://localhost:8080/"
        },
        "id": "K2W6IAaewZ7e",
        "outputId": "d7202413-a2c7-40e1-b97d-969ae6d47a0e"
      },
      "execution_count": 38,
      "outputs": [
        {
          "output_type": "stream",
          "name": "stdout",
          "text": [
            "Epoch 1/10\n",
            "1563/1563 [==============================] - 6s 4ms/step - loss: 0.2943 - accuracy: 0.9123 - val_loss: 0.1492 - val_accuracy: 0.9559\n",
            "Epoch 2/10\n",
            "  24/1563 [..............................] - ETA: 7s - loss: 0.1698 - accuracy: 0.9505"
          ]
        },
        {
          "output_type": "stream",
          "name": "stderr",
          "text": [
            "/usr/local/lib/python3.10/dist-packages/keras/src/engine/training.py:3103: UserWarning: You are saving your model as an HDF5 file via `model.save()`. This file format is considered legacy. We recommend using instead the native Keras format, e.g. `model.save('my_model.keras')`.\n",
            "  saving_api.save_model(\n"
          ]
        },
        {
          "output_type": "stream",
          "name": "stdout",
          "text": [
            "1563/1563 [==============================] - 6s 4ms/step - loss: 0.1591 - accuracy: 0.9549 - val_loss: 0.1184 - val_accuracy: 0.9665\n",
            "Epoch 3/10\n",
            "1563/1563 [==============================] - 5s 3ms/step - loss: 0.1281 - accuracy: 0.9637 - val_loss: 0.0996 - val_accuracy: 0.9733\n",
            "Epoch 4/10\n",
            "1563/1563 [==============================] - 6s 4ms/step - loss: 0.1121 - accuracy: 0.9688 - val_loss: 0.0972 - val_accuracy: 0.9752\n",
            "Epoch 5/10\n",
            "1563/1563 [==============================] - 5s 3ms/step - loss: 0.1014 - accuracy: 0.9717 - val_loss: 0.0967 - val_accuracy: 0.9766\n",
            "Epoch 6/10\n",
            "1563/1563 [==============================] - 6s 4ms/step - loss: 0.0956 - accuracy: 0.9744 - val_loss: 0.0920 - val_accuracy: 0.9765\n",
            "Epoch 7/10\n",
            "1563/1563 [==============================] - 5s 3ms/step - loss: 0.0856 - accuracy: 0.9767 - val_loss: 0.0993 - val_accuracy: 0.9775\n",
            "Epoch 8/10\n",
            "1563/1563 [==============================] - 6s 4ms/step - loss: 0.0820 - accuracy: 0.9778 - val_loss: 0.0944 - val_accuracy: 0.9779\n",
            "Epoch 9/10\n",
            "1563/1563 [==============================] - 5s 3ms/step - loss: 0.0772 - accuracy: 0.9796 - val_loss: 0.0872 - val_accuracy: 0.9793\n",
            "Epoch 10/10\n",
            "1563/1563 [==============================] - 6s 4ms/step - loss: 0.0748 - accuracy: 0.9802 - val_loss: 0.0944 - val_accuracy: 0.9794\n"
          ]
        },
        {
          "output_type": "execute_result",
          "data": {
            "text/plain": [
              "<keras.src.callbacks.History at 0x7e9ee042b850>"
            ]
          },
          "metadata": {},
          "execution_count": 38
        }
      ]
    },
    {
      "cell_type": "code",
      "source": [
        "from matplotlib import pyplot as plt"
      ],
      "metadata": {
        "id": "cqtMZmwy_qjg"
      },
      "execution_count": 39,
      "outputs": []
    },
    {
      "cell_type": "code",
      "source": [
        "# Callback 클래스를 상속하여 사용자 정의 콜백 만들기\n",
        "\n",
        "class LossHistory(keras.callbacks.Callback):\n",
        "  def on_train_begin(self, logs):\n",
        "    self.per_batch_losses = []\n",
        "  def on_batch_end(self, batch, logs):\n",
        "    self.per_batch_losses.append(logs.get(\"loss\"))\n",
        "  def on_epoch_end(self, epoch, logs):\n",
        "    plt.clf()\n",
        "    plt.plot(range(len(self.per_batch_losses)), self.per_batch_losses,\n",
        "             label=\"Training loss for each batch\")\n",
        "    plt.xlabel(f\"Batch (epoch {epoch})\")\n",
        "    plt.ylabel(\"Loss\")\n",
        "    plt.legend()\n",
        "    plt.savefig(f\"plot_at_epoch_{epoch}\")\n",
        "    self.per_batch_losses = []"
      ],
      "metadata": {
        "id": "YjsC5dG556lh"
      },
      "execution_count": 40,
      "outputs": []
    },
    {
      "cell_type": "code",
      "source": [
        "# 콜백 테스트\n",
        "\n",
        "model = get_mnist_model()\n",
        "model.compile(optimizer=\"rmsprop\",\n",
        "              loss=\"sparse_categorical_crossentropy\",\n",
        "              metrics=[\"accuracy\"])\n",
        "model.fit(train_images, train_labels,\n",
        "          epochs=10,\n",
        "          callbacks=[LossHistory()],\n",
        "          validation_data=(val_images, val_labels))"
      ],
      "metadata": {
        "colab": {
          "base_uri": "https://localhost:8080/",
          "height": 844
        },
        "id": "aGQ1sYatA8U7",
        "outputId": "917dca33-5998-4cef-c438-d42e7efc843b"
      },
      "execution_count": 41,
      "outputs": [
        {
          "output_type": "stream",
          "name": "stdout",
          "text": [
            "Epoch 1/10\n",
            "1563/1563 [==============================] - 6s 4ms/step - loss: 0.2967 - accuracy: 0.9111 - val_loss: 0.1450 - val_accuracy: 0.9570\n",
            "Epoch 2/10\n",
            "1563/1563 [==============================] - 6s 4ms/step - loss: 0.1614 - accuracy: 0.9532 - val_loss: 0.1185 - val_accuracy: 0.9677\n",
            "Epoch 3/10\n",
            "1563/1563 [==============================] - 6s 4ms/step - loss: 0.1314 - accuracy: 0.9629 - val_loss: 0.1111 - val_accuracy: 0.9686\n",
            "Epoch 4/10\n",
            "1563/1563 [==============================] - 7s 4ms/step - loss: 0.1120 - accuracy: 0.9690 - val_loss: 0.0960 - val_accuracy: 0.9743\n",
            "Epoch 5/10\n",
            "1563/1563 [==============================] - 6s 4ms/step - loss: 0.1034 - accuracy: 0.9711 - val_loss: 0.0882 - val_accuracy: 0.9765\n",
            "Epoch 6/10\n",
            "1563/1563 [==============================] - 7s 4ms/step - loss: 0.0965 - accuracy: 0.9744 - val_loss: 0.0911 - val_accuracy: 0.9781\n",
            "Epoch 7/10\n",
            "1563/1563 [==============================] - 6s 4ms/step - loss: 0.0893 - accuracy: 0.9760 - val_loss: 0.0924 - val_accuracy: 0.9779\n",
            "Epoch 8/10\n",
            "1563/1563 [==============================] - 6s 4ms/step - loss: 0.0819 - accuracy: 0.9781 - val_loss: 0.0934 - val_accuracy: 0.9780\n",
            "Epoch 9/10\n",
            "1563/1563 [==============================] - 6s 4ms/step - loss: 0.0748 - accuracy: 0.9797 - val_loss: 0.0932 - val_accuracy: 0.9788\n",
            "Epoch 10/10\n",
            "1563/1563 [==============================] - 6s 4ms/step - loss: 0.0730 - accuracy: 0.9806 - val_loss: 0.0858 - val_accuracy: 0.9816\n"
          ]
        },
        {
          "output_type": "execute_result",
          "data": {
            "text/plain": [
              "<keras.src.callbacks.History at 0x7e9efc055c00>"
            ]
          },
          "metadata": {},
          "execution_count": 41
        },
        {
          "output_type": "display_data",
          "data": {
            "text/plain": [
              "<Figure size 640x480 with 1 Axes>"
            ],
            "image/png": "[encoded data removed]"
          },
          "metadata": {}
        }
      ]
    },
    {
      "cell_type": "markdown",
      "source": [
        "## 7.4 사용자 정의 훈련, 평가 루프 만들기"
      ],
      "metadata": {
        "id": "RI_uKTiQ-YcQ"
      }
    },
    {
      "cell_type": "markdown",
      "source": [
        "### 7.4.1 훈련 vs  추론"
      ],
      "metadata": {
        "id": "VQH6WKyw-d2G"
      }
    },
    {
      "cell_type": "code",
      "source": [
        "# 지도 학습을 위한 훈련 스텝\n",
        "\n",
        "def train_step(inputs, targets):\n",
        "\t\twith tf.GradientTape() as tape:\n",
        "\t\t\t\tpredictions = model(inputs, training=True)\n",
        "\t\t\t\tloss = loss_fn(targets, predictions)\n",
        "\t\tgradients = tape.gradients(loss, model.trainable_weights)\n",
        "\t\toptimizer.apply_gradients(zip(model.trainable_weights, gradients))"
      ],
      "metadata": {
        "id": "-BUj8SumB-RF"
      },
      "execution_count": 42,
      "outputs": []
    },
    {
      "cell_type": "markdown",
      "source": [
        "### 7.4.2 측정 지표의 저수준 사용법"
      ],
      "metadata": {
        "id": "JRVcfeW4_P1v"
      }
    },
    {
      "cell_type": "code",
      "source": [
        "metric = keras.metrics.SparseCategoricalAccuracy()\n",
        "targets = [0, 1, 2]\n",
        "predictions = [[1, 0, 0], [0, 1, 0], [0, 0, 1]]\n",
        "metric.update_state(targets, predictions)\n",
        "current_result = metric.result()\n",
        "print(f\"결과: {current_result:.2f}\")"
      ],
      "metadata": {
        "colab": {
          "base_uri": "https://localhost:8080/"
        },
        "id": "VQRVZQ4S-jBr",
        "outputId": "8edba2b6-95c0-46fe-e202-dcfd3f851146"
      },
      "execution_count": 43,
      "outputs": [
        {
          "output_type": "stream",
          "name": "stdout",
          "text": [
            "결과: 1.00\n"
          ]
        }
      ]
    },
    {
      "cell_type": "code",
      "source": [
        "values = [0, 1, 2, 3, 4]\n",
        "mean_tracker = keras.metrics.Mean()\n",
        "for value in values:\n",
        "  mean_tracker.update_state(value)\n",
        "print(f\"평균 지표: {mean_tracker.result():.2f}\")"
      ],
      "metadata": {
        "colab": {
          "base_uri": "https://localhost:8080/"
        },
        "id": "prWnGjt-AHfv",
        "outputId": "a662ba03-e505-4cd9-8bbc-a09a452430de"
      },
      "execution_count": 44,
      "outputs": [
        {
          "output_type": "stream",
          "name": "stdout",
          "text": [
            "평균 지표: 2.00\n"
          ]
        }
      ]
    },
    {
      "cell_type": "markdown",
      "source": [
        "### 7.4.3 완전한 훈련과 평가 루프"
      ],
      "metadata": {
        "id": "DEdEZr66R3EG"
      }
    },
    {
      "cell_type": "code",
      "source": [
        "# 단계별 훈련 루프 작성하기: 훈련 스텝 함수\n",
        "\n",
        "model = get_mnist_model()\n",
        "\n",
        "loss_fn = keras.losses.SparseCategoricalCrossentropy()  # 손실 함수 준비\n",
        "optimizer = keras.optimizers.RMSprop()   # 옵티마이저 준비\n",
        "metrics = [keras.metrics.SparseCategoricalAccuracy()] # 모니터링할 지표 리스트 준비\n",
        "loss_tracking_metric = keras.metrics.Mean()   # 손실 평균을 추적할 평균 지표를 준비\n",
        "\n",
        "def train_step(inputs, targets):\n",
        "  with tf.GradientTape() as tape:   # 정방향 패스 실행\n",
        "    predictions = model(inputs, training=True)\n",
        "    loss = loss_fn(targets, predictions)\n",
        "  gradients = tape.gradient(loss, model.trainable_weights)    # 역방향 패스 실행\n",
        "  optimizer.apply_gradients(zip(gradients, model.trainable_weights))\n",
        "  logs = {}\n",
        "  for metric in metrics:    # 측정 지표를 계산\n",
        "    metric.update_state(targets, predictions)\n",
        "    logs[metric.name] = metric.result()   # 손실 평균 계산\n",
        "  loss_tracking_metric.update_state(loss)\n",
        "  logs[\"loss\"] = loss_tracking_metric.result()\n",
        "  return logs"
      ],
      "metadata": {
        "id": "mzhGeHqTAYyo"
      },
      "execution_count": 45,
      "outputs": []
    },
    {
      "cell_type": "code",
      "source": [
        "# 단계별 훈련 루프 작성하기: 지표 재설정\n",
        "\n",
        "def reset_metrics():\n",
        "  for metric in metrics:\n",
        "    metric.reset_state()\n",
        "  loss_tracking_metric.reset_state()"
      ],
      "metadata": {
        "id": "_XehGxw5SzjW"
      },
      "execution_count": 46,
      "outputs": []
    },
    {
      "cell_type": "code",
      "source": [
        "# 단계별 훈련 루프 작성하기: 훈련 루프 자체\n",
        "\n",
        "training_dataset = tf.data.Dataset.from_tensor_slices(\n",
        "    (train_images, train_labels))\n",
        "training_dataset = training_dataset.batch(32)\n",
        "epochs = 3\n",
        "for epoch in range(epochs):\n",
        "  reset_metrics()\n",
        "  for inputs_batch, targets_batch in training_dataset:\n",
        "    logs = train_step(inputs_batch, targets_batch)\n",
        "  print(f\"{epoch}번째 에포크 결과\")\n",
        "  for key, value in logs.items():\n",
        "    print(f\"...{key}: {value:.4f}\")"
      ],
      "metadata": {
        "colab": {
          "base_uri": "https://localhost:8080/"
        },
        "id": "wHYab0cJUA8q",
        "outputId": "c3981d9a-0102-41bf-d896-a2963dd361ab"
      },
      "execution_count": 47,
      "outputs": [
        {
          "output_type": "stream",
          "name": "stdout",
          "text": [
            "0번째 에포크 결과\n",
            "...sparse_categorical_accuracy: 0.9139\n",
            "...loss: 0.2899\n",
            "1번째 에포크 결과\n",
            "...sparse_categorical_accuracy: 0.9547\n",
            "...loss: 0.1556\n",
            "2번째 에포크 결과\n",
            "...sparse_categorical_accuracy: 0.9635\n",
            "...loss: 0.1264\n"
          ]
        }
      ]
    },
    {
      "cell_type": "code",
      "source": [
        "# 단계별 평가 루프 작성하기\n",
        "\n",
        "def test_step(inputs, targets):\n",
        "  predictions = model(inputs, training=False)\n",
        "  loss = loss_fn(targets, predictions)\n",
        "  logs = {}\n",
        "  for metric in metrics:\n",
        "    metric.update_state(targets, predictions)\n",
        "    logs[\"val_\" + metric.name] = metric.result()\n",
        "  loss_tracking_metric.update_state(loss)\n",
        "  logs[\"val_loss\"] = loss_tracking_metric.result()\n",
        "  return logs\n",
        "\n",
        "val_dataset = tf.data.Dataset.from_tensor_slices((val_images, val_labels))\n",
        "val_dataset = val_dataset.batch(32)\n",
        "reset_metrics()\n",
        "for inputs_batch, targets_batch in val_dataset:\n",
        "  logs = test_step(inputs_batch, targets_batch)\n",
        "print(\"평가 결과:\")\n",
        "for key, value in logs.items():\n",
        "  print(f\"...{key}: {value:.4f}\")"
      ],
      "metadata": {
        "colab": {
          "base_uri": "https://localhost:8080/"
        },
        "id": "tEGOc1l-U4Jo",
        "outputId": "7d7303cd-ab14-4c7b-a572-6029dd6429b9"
      },
      "execution_count": 48,
      "outputs": [
        {
          "output_type": "stream",
          "name": "stdout",
          "text": [
            "평가 결과:\n",
            "...val_sparse_categorical_accuracy: 0.9681\n",
            "...val_loss: 0.1220\n"
          ]
        }
      ]
    },
    {
      "cell_type": "markdown",
      "source": [
        "### 7.4.4 tf.function으로 성능 높이기"
      ],
      "metadata": {
        "id": "9XHSZFptYiCK"
      }
    },
    {
      "cell_type": "code",
      "source": [
        "# 평가 스텝 함수에 @tf.function 데코레이터 추가하기\n",
        "\n",
        "@tf.function\n",
        "def test_step(inputs, targets):\n",
        "  predictions = model(inputs, training=False)\n",
        "  loss = loss_fn(targets, predictions)\n",
        "\n",
        "  logs = {}\n",
        "  for metric in metrics:\n",
        "    metric.update_state(targets, predictions)\n",
        "    logs[\"val_\" + metric.name] = metric.result()\n",
        "\n",
        "  loss_tracking_metric.update_state(loss)\n",
        "  logs[\"val_loss\"] = loss_tracking_metric.result()\n",
        "  return logs\n",
        "\n",
        "val_dataset = tf.data.Dataset.from_tensor_slices((val_images, val_labels))\n",
        "val_dataset = val_dataset.batch(32)\n",
        "reset_metrics()\n",
        "\n",
        "for inputs_batch, targets_batch in val_dataset:\n",
        "  logs = test_step(inputs_batch, targets_batch)\n",
        "print(\"평가 결과:\")\n",
        "for key, value in logs.items():\n",
        "  print(f\"...{key}: {value:.4f}\")"
      ],
      "metadata": {
        "colab": {
          "base_uri": "https://localhost:8080/"
        },
        "id": "26AMzPysXsAt",
        "outputId": "7fc81cf6-cd1d-4e90-afba-eec1e4b39d7d"
      },
      "execution_count": 49,
      "outputs": [
        {
          "output_type": "stream",
          "name": "stdout",
          "text": [
            "평가 결과:\n",
            "...val_sparse_categorical_accuracy: 0.9681\n",
            "...val_loss: 0.1220\n"
          ]
        }
      ]
    },
    {
      "cell_type": "markdown",
      "source": [
        "### 7.4.5 fit() 메서드를 사용자 정의 루프로 활용하기"
      ],
      "metadata": {
        "id": "oW0Mi8TwfD-u"
      }
    },
    {
      "cell_type": "code",
      "source": [
        "# fit()이 사용할 사용자 정의 훈련 스텝 구현하기\n",
        "\n",
        "loss_fn = keras.losses.SparseCategoricalCrossentropy()\n",
        "loss_tracker = keras.metrics.Mean(name=\"loss\")  # 훈련과 평균 과정에서 배치 손실의 평균을 추적\n",
        "\n",
        "class CustomModel(keras.Model):\n",
        "  def train_step(self, data):   # train_step 메서드를 오버라이딩\n",
        "    inputs, targets = data\n",
        "    with tf.GradientTape() as tape:\n",
        "      predictions = self(inputs, training=True)   # 모델 = 클래스 자체\n",
        "      loss = loss_fn(targets, predictions)\n",
        "    gradients = tape.gradient(loss, self.trainable_weights)\n",
        "    self.optimizer.apply_gradients(zip(gradients, self.trainable_weights))\n",
        "\n",
        "    loss_tracker.update_state(loss)   # 손실의 평균을 추적하는 loss_tracker를 업데이트\n",
        "    return {\"loss\": loss_tracker.result()}    # 평균 손실 구하기\n",
        "\n",
        "  @property\n",
        "  def metrics(self):    # 에포크마다 재설정할 지표 나열\n",
        "    return [loss_tracker]"
      ],
      "metadata": {
        "id": "L1bnlfp1Z2ht"
      },
      "execution_count": 50,
      "outputs": []
    },
    {
      "cell_type": "code",
      "source": [
        "# fit() 메서드로 훈련\n",
        "\n",
        "inputs = keras.Input(shape=(28 * 28,))\n",
        "features = layers.Dense(512, activation=\"relu\")(inputs)\n",
        "features = layers.Dropout(0.5)(features)\n",
        "outputs = layers.Dense(10, activation=\"softmax\")(features)\n",
        "model = CustomModel(inputs, outputs)\n",
        "\n",
        "model.compile(optimizer=keras.optimizers.RMSprop())\n",
        "model.fit(train_images, train_labels, epochs=3)"
      ],
      "metadata": {
        "colab": {
          "base_uri": "https://localhost:8080/"
        },
        "id": "9zX1lsRofVlE",
        "outputId": "790f0032-dc5a-4726-ff6f-36a66dcee8c8"
      },
      "execution_count": 51,
      "outputs": [
        {
          "output_type": "stream",
          "name": "stdout",
          "text": [
            "Epoch 1/3\n",
            "1563/1563 [==============================] - 5s 3ms/step - loss: 0.2940\n",
            "Epoch 2/3\n",
            "1563/1563 [==============================] - 4s 3ms/step - loss: 0.1604\n",
            "Epoch 3/3\n",
            "1563/1563 [==============================] - 4s 3ms/step - loss: 0.1313\n"
          ]
        },
        {
          "output_type": "execute_result",
          "data": {
            "text/plain": [
              "<keras.src.callbacks.History at 0x7e9ed85835e0>"
            ]
          },
          "metadata": {},
          "execution_count": 51
        }
      ]
    },
    {
      "cell_type": "code",
      "source": [
        "# compile() 메서드를 통해 지표와 손실 설정\n",
        "\n",
        "class CustomModel(keras.Model):\n",
        "  def train_step(self, data):\n",
        "    inputs, targets = data\n",
        "    with tf.GradientTape() as tape:\n",
        "      predictions = self(inputs, training=True)\n",
        "      loss = self.compiled_loss(targets, predictions)   # self.compiled_metrics 모델 지표 업데이트\n",
        "    gradients = tape.gradient(loss, self.trainable_weights)\n",
        "    self.optimizer.apply_gradients(zip(gradients, self.trainable_weights))  # self.compiled_loss를 사용해서 손실 계산\n",
        "    return {m.name: m.result() for m in self.metrics}   # 측정 지표 이름과 현재 값을 매핑한 딕셔너리 반환"
      ],
      "metadata": {
        "id": "QJgHWKcBfW4Q"
      },
      "execution_count": 52,
      "outputs": []
    },
    {
      "cell_type": "code",
      "source": [
        "inputs = keras.Input(shape=(28 * 28,))\n",
        "features = layers.Dense(512, activation=\"relu\")(inputs)\n",
        "features = layers.Dropout(0.5)(features)\n",
        "outputs = layers.Dense(10, activation=\"softmax\")(features)\n",
        "model = CustomModel(inputs, outputs)\n",
        "model.compile(optimizer=keras.optimizers.RMSprop(),\n",
        "              loss=keras.losses.SparseCategoricalCrossentropy(),\n",
        "              metrics=[keras.metrics.SparseCategoricalAccuracy()])\n",
        "model.fit(train_images, train_labels, epochs=3)"
      ],
      "metadata": {
        "colab": {
          "base_uri": "https://localhost:8080/"
        },
        "id": "PywhpPjmlimu",
        "outputId": "3c2f2a9b-708e-4e86-b04b-682673b707be"
      },
      "execution_count": 53,
      "outputs": [
        {
          "output_type": "stream",
          "name": "stdout",
          "text": [
            "Epoch 1/3\n",
            "1563/1563 [==============================] - 5s 3ms/step - loss: 0.2944\n",
            "Epoch 2/3\n",
            "1563/1563 [==============================] - 5s 3ms/step - loss: 0.1582\n",
            "Epoch 3/3\n",
            "1563/1563 [==============================] - 4s 3ms/step - loss: 0.1285\n"
          ]
        },
        {
          "output_type": "execute_result",
          "data": {
            "text/plain": [
              "<keras.src.callbacks.History at 0x7e9ed8582140>"
            ]
          },
          "metadata": {},
          "execution_count": 53
        }
      ]
    }
  ]
}