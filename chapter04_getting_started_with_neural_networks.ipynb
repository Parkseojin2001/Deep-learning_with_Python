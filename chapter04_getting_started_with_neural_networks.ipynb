{
  "cells": [
    {
      "cell_type": "markdown",
      "metadata": {
        "id": "view-in-github",
        "colab_type": "text"
      },
      "source": [
        "<a href=\"https://colab.research.google.com/github/Parkseojin2001/Deep-learning_with_Python/blob/main/chapter04_getting_started_with_neural_networks.ipynb\" target=\"_parent\"><img src=\"https://colab.research.google.com/assets/colab-badge.svg\" alt=\"Open In Colab\"/></a>"
      ]
    },
    {
      "cell_type": "code",
      "execution_count": 1,
      "metadata": {
        "id": "c7T8ugoDfmHb"
      },
      "outputs": [],
      "source": [
        "import numpy as np\n",
        "import matplotlib.pyplot as plt\n",
        "\n",
        "import tensorflow as tf\n",
        "from tensorflow.keras.datasets import imdb\n",
        "from tensorflow import keras\n",
        "from tensorflow.keras import layers"
      ]
    },
    {
      "cell_type": "code",
      "execution_count": 2,
      "metadata": {
        "id": "aw1Swfg5r7B-"
      },
      "outputs": [],
      "source": [
        "tf.keras.backend.set_floatx('float16')"
      ]
    },
    {
      "cell_type": "markdown",
      "metadata": {
        "id": "MAcRkRR_f_2R"
      },
      "source": [
        "## 4.1.1 IMBD 데이터셋"
      ]
    },
    {
      "cell_type": "code",
      "execution_count": 3,
      "metadata": {
        "colab": {
          "base_uri": "https://localhost:8080/"
        },
        "id": "KcH3KhrAtHT6",
        "outputId": "aadf3022-ad6d-47a5-d4d2-1f7272ea8619"
      },
      "outputs": [
        {
          "output_type": "stream",
          "name": "stdout",
          "text": [
            "Downloading data from https://storage.googleapis.com/tensorflow/tf-keras-datasets/imdb.npz\n",
            "17464789/17464789 [==============================] - 0s 0us/step\n"
          ]
        }
      ],
      "source": [
        "(train_data, train_labels), (test_data, test_labels) = imdb.load_data(\n",
        "    num_words=10000)"
      ]
    },
    {
      "cell_type": "code",
      "execution_count": 4,
      "metadata": {
        "colab": {
          "base_uri": "https://localhost:8080/"
        },
        "id": "67c0S1rFwqgz",
        "outputId": "b1187d59-1ac1-479b-f8db-2b9d2bb28402"
      },
      "outputs": [
        {
          "output_type": "stream",
          "name": "stdout",
          "text": [
            "Downloading data from https://storage.googleapis.com/tensorflow/tf-keras-datasets/imdb_word_index.json\n",
            "1641221/1641221 [==============================] - 0s 0us/step\n"
          ]
        }
      ],
      "source": [
        "# 리뷰를 다시 텍스트로 디코딩\n",
        "word_index = imdb.get_word_index()\n",
        "reverse_word_index = dict(\n",
        "    [(value, key) for (key, value) in word_index.items()])\n",
        "decoded_review = \" \".join(\n",
        "    [reverse_word_index.get(i - 3, \"?\") for i in train_data[0]]\n",
        ")"
      ]
    },
    {
      "cell_type": "code",
      "execution_count": 5,
      "metadata": {
        "id": "bDflgVqQf-v8"
      },
      "outputs": [],
      "source": [
        "def vectorize_sequences(sequences, dimension=10000):\n",
        "    results = np.zeros((len(sequences), dimension))\n",
        "    for i, sequence in enumerate(sequences):\n",
        "        for j in sequence:\n",
        "            results[i, j] = 1.\n",
        "    return results"
      ]
    },
    {
      "cell_type": "code",
      "execution_count": 6,
      "metadata": {
        "id": "zmMiPfpHmzFH"
      },
      "outputs": [],
      "source": [
        "x_train = vectorize_sequences(train_data)\n",
        "x_test = vectorize_sequences(test_data)"
      ]
    },
    {
      "cell_type": "code",
      "execution_count": 7,
      "metadata": {
        "id": "dvkF1pIBnBe9"
      },
      "outputs": [],
      "source": [
        "y_train = np.asarray(train_labels).astype(\"float32\")\n",
        "y_test = np.asarray(test_labels).astype(\"float32\")"
      ]
    },
    {
      "cell_type": "code",
      "execution_count": 8,
      "metadata": {
        "id": "889-bwgqnJJn"
      },
      "outputs": [],
      "source": [
        "model = keras.Sequential([\n",
        "    layers.Dense(16, activation=\"relu\"),\n",
        "    layers.Dense(16, activation=\"relu\"),\n",
        "    layers.Dense(1, activation=\"sigmoid\")\n",
        "])"
      ]
    },
    {
      "cell_type": "code",
      "execution_count": 9,
      "metadata": {
        "id": "k-Lf3eQ-nmn0"
      },
      "outputs": [],
      "source": [
        "model.compile(optimizer=\"rmsprop\",\n",
        "              loss=\"binary_crossentropy\",\n",
        "              metrics=[\"accuracy\"])"
      ]
    },
    {
      "cell_type": "code",
      "execution_count": 10,
      "metadata": {
        "id": "wzwvghfPnxb0"
      },
      "outputs": [],
      "source": [
        "x_val = x_train[:10000]\n",
        "partial_x_train = x_train[10000:]\n",
        "y_val = y_train[:10000]\n",
        "partial_y_train = y_train[10000:]"
      ]
    },
    {
      "cell_type": "code",
      "execution_count": 11,
      "metadata": {
        "colab": {
          "base_uri": "https://localhost:8080/"
        },
        "id": "xhvwbJUpuLv4",
        "outputId": "a9c78de7-3785-4c0d-9e27-2e873b5d7386"
      },
      "outputs": [
        {
          "output_type": "stream",
          "name": "stdout",
          "text": [
            "Epoch 1/20\n",
            "30/30 [==============================] - 8s 75ms/step - loss: 0.5137 - accuracy: 0.7808 - val_loss: 0.3853 - val_accuracy: 0.8623\n",
            "Epoch 2/20\n",
            "30/30 [==============================] - 1s 18ms/step - loss: 0.3118 - accuracy: 0.8945 - val_loss: 0.3125 - val_accuracy: 0.8770\n",
            "Epoch 3/20\n",
            "30/30 [==============================] - 2s 52ms/step - loss: 0.2347 - accuracy: 0.9199 - val_loss: 0.2937 - val_accuracy: 0.8838\n",
            "Epoch 4/20\n",
            "30/30 [==============================] - 1s 30ms/step - loss: 0.1931 - accuracy: 0.9341 - val_loss: 0.2756 - val_accuracy: 0.8862\n",
            "Epoch 5/20\n",
            "30/30 [==============================] - 1s 29ms/step - loss: 0.1608 - accuracy: 0.9458 - val_loss: 0.2849 - val_accuracy: 0.8862\n",
            "Epoch 6/20\n",
            "30/30 [==============================] - 1s 26ms/step - loss: 0.1371 - accuracy: 0.9556 - val_loss: 0.3015 - val_accuracy: 0.8809\n",
            "Epoch 7/20\n",
            "30/30 [==============================] - 1s 17ms/step - loss: 0.1201 - accuracy: 0.9609 - val_loss: 0.3010 - val_accuracy: 0.8833\n",
            "Epoch 8/20\n",
            "30/30 [==============================] - 1s 26ms/step - loss: 0.1056 - accuracy: 0.9673 - val_loss: 0.3611 - val_accuracy: 0.8726\n",
            "Epoch 9/20\n",
            "30/30 [==============================] - 1s 26ms/step - loss: 0.0908 - accuracy: 0.9722 - val_loss: 0.3376 - val_accuracy: 0.8794\n",
            "Epoch 10/20\n",
            "30/30 [==============================] - 1s 22ms/step - loss: 0.0788 - accuracy: 0.9771 - val_loss: 0.4087 - val_accuracy: 0.8672\n",
            "Epoch 11/20\n",
            "30/30 [==============================] - 1s 27ms/step - loss: 0.0693 - accuracy: 0.9805 - val_loss: 0.3611 - val_accuracy: 0.8799\n",
            "Epoch 12/20\n",
            "30/30 [==============================] - 1s 19ms/step - loss: 0.0660 - accuracy: 0.9814 - val_loss: 0.3887 - val_accuracy: 0.8706\n",
            "Epoch 13/20\n",
            "30/30 [==============================] - 1s 17ms/step - loss: 0.0524 - accuracy: 0.9868 - val_loss: 0.4211 - val_accuracy: 0.8735\n",
            "Epoch 14/20\n",
            "30/30 [==============================] - 1s 20ms/step - loss: 0.0460 - accuracy: 0.9902 - val_loss: 0.4160 - val_accuracy: 0.8750\n",
            "Epoch 15/20\n",
            "30/30 [==============================] - 1s 24ms/step - loss: 0.0377 - accuracy: 0.9937 - val_loss: 0.4592 - val_accuracy: 0.8711\n",
            "Epoch 16/20\n",
            "30/30 [==============================] - 1s 23ms/step - loss: 0.0342 - accuracy: 0.9941 - val_loss: 0.4604 - val_accuracy: 0.8745\n",
            "Epoch 17/20\n",
            "30/30 [==============================] - 0s 13ms/step - loss: 0.0278 - accuracy: 0.9966 - val_loss: 0.5151 - val_accuracy: 0.8696\n",
            "Epoch 18/20\n",
            "30/30 [==============================] - 0s 13ms/step - loss: 0.0275 - accuracy: 0.9951 - val_loss: 0.4995 - val_accuracy: 0.8706\n",
            "Epoch 19/20\n",
            "30/30 [==============================] - 0s 15ms/step - loss: 0.0216 - accuracy: 0.9980 - val_loss: 0.5278 - val_accuracy: 0.8672\n",
            "Epoch 20/20\n",
            "30/30 [==============================] - 0s 14ms/step - loss: 0.0194 - accuracy: 0.9985 - val_loss: 0.5444 - val_accuracy: 0.8721\n"
          ]
        }
      ],
      "source": [
        "history = model.fit(partial_x_train,\n",
        "\t\t\t\t\t\t\t\t\t\t\tpartial_y_train,\n",
        "\t\t\t\t\t\t\t\t\t\t\tepochs=20,\n",
        "\t\t\t\t\t\t\t\t\t\t\tbatch_size=512,\n",
        "\t\t\t\t\t\t\t\t\t\t\tvalidation_data=(x_val, y_val))"
      ]
    },
    {
      "cell_type": "code",
      "execution_count": 12,
      "metadata": {
        "colab": {
          "base_uri": "https://localhost:8080/"
        },
        "id": "XIZdyCgqqDCV",
        "outputId": "1f834857-1027-4a5a-dd09-f38e848d822c"
      },
      "outputs": [
        {
          "output_type": "execute_result",
          "data": {
            "text/plain": [
              "dict_keys(['loss', 'accuracy', 'val_loss', 'val_accuracy'])"
            ]
          },
          "metadata": {},
          "execution_count": 12
        }
      ],
      "source": [
        "history.history.keys()"
      ]
    },
    {
      "cell_type": "code",
      "execution_count": 13,
      "metadata": {
        "colab": {
          "base_uri": "https://localhost:8080/",
          "height": 472
        },
        "id": "RMZlE-D7pM5l",
        "outputId": "71e3a2e5-a734-4529-b7d2-331b87fd7570"
      },
      "outputs": [
        {
          "output_type": "display_data",
          "data": {
            "text/plain": [
              "<Figure size 640x480 with 1 Axes>"
            ],
            "image/png": "[encoded data removed]"
          },
          "metadata": {}
        }
      ],
      "source": [
        "history_dict = history.history\n",
        "loss_values = history_dict[\"loss\"]\n",
        "val_loss_values = history_dict[\"val_loss\"]\n",
        "epochs = range(1, len(loss_values) + 1)\n",
        "plt.plot(epochs, loss_values, \"bo\", label=\"Training loss\")\n",
        "plt.plot(epochs, val_loss_values, \"b\", label=\"Validation loss\")\n",
        "plt.title(\"Training and validation loss\")\n",
        "plt.xlabel(\"Epochs\")\n",
        "plt.ylabel(\"Loss\")\n",
        "plt.legend()\n",
        "plt.show()"
      ]
    },
    {
      "cell_type": "code",
      "execution_count": 14,
      "metadata": {
        "colab": {
          "base_uri": "https://localhost:8080/",
          "height": 472
        },
        "id": "yvdRKItGpUhx",
        "outputId": "dbc67acb-25a4-4141-e8db-6223db6bf4d7"
      },
      "outputs": [
        {
          "output_type": "display_data",
          "data": {
            "text/plain": [
              "<Figure size 640x480 with 1 Axes>"
            ],
            "image/png": "[encoded data removed]"
          },
          "metadata": {}
        }
      ],
      "source": [
        "plt.clf()\n",
        "acc = history_dict[\"accuracy\"]\n",
        "val_acc = history_dict[\"val_accuracy\"]\n",
        "plt.plot(epochs, acc, \"bo\", label=\"Training acc\")\n",
        "plt.plot(epochs, val_acc, \"b\", label=\"Validation acc\")\n",
        "plt.title(\"Training and validation accuracy\")\n",
        "plt.xlabel(\"Epochs\")\n",
        "plt.ylabel(\"Accuracy\")\n",
        "plt.legend()\n",
        "plt.show()"
      ]
    },
    {
      "cell_type": "code",
      "execution_count": 15,
      "metadata": {
        "colab": {
          "base_uri": "https://localhost:8080/"
        },
        "id": "WANGvoNNqfn_",
        "outputId": "8077b9b1-8600-4170-8f7e-4fb6ad20ce99"
      },
      "outputs": [
        {
          "output_type": "stream",
          "name": "stdout",
          "text": [
            "Epoch 1/4\n",
            "49/49 [==============================] - 1s 12ms/step - loss: 0.5239 - accuracy: 0.7856\n",
            "Epoch 2/4\n",
            "49/49 [==============================] - 1s 11ms/step - loss: 0.3154 - accuracy: 0.8984\n",
            "Epoch 3/4\n",
            "49/49 [==============================] - 0s 10ms/step - loss: 0.2357 - accuracy: 0.9199\n",
            "Epoch 4/4\n",
            "49/49 [==============================] - 0s 9ms/step - loss: 0.1976 - accuracy: 0.9302\n",
            "782/782 [==============================] - 3s 4ms/step - loss: 0.2886 - accuracy: 0.9199\n"
          ]
        }
      ],
      "source": [
        "model = keras.Sequential([\n",
        "    layers.Dense(16, activation=\"relu\"),\n",
        "    layers.Dense(16, activation=\"relu\"),\n",
        "    layers.Dense(1, activation=\"sigmoid\")\n",
        "])\n",
        "# 훈련세트 + 검증세트\n",
        "model.compile(optimizer=\"rmsprop\",\n",
        "\t\t\t\t\t\t\t\tloss=\"binary_crossentropy\",\n",
        "\t\t\t\t\t\t\t\tmetrics=[\"accuracy\"])\n",
        "model.fit(x_train, y_train, epochs=4, batch_size=512)\n",
        "results = model.evaluate(x_test, y_test)"
      ]
    },
    {
      "cell_type": "code",
      "execution_count": 16,
      "metadata": {
        "colab": {
          "base_uri": "https://localhost:8080/"
        },
        "id": "XCJdshQAugBS",
        "outputId": "6777945f-cef9-4423-e8fd-a14f39a558a5"
      },
      "outputs": [
        {
          "output_type": "stream",
          "name": "stdout",
          "text": [
            "782/782 [==============================] - 3s 4ms/step\n"
          ]
        },
        {
          "output_type": "execute_result",
          "data": {
            "text/plain": [
              "array([[0.2208 ],\n",
              "       [0.991  ],\n",
              "       [0.8857 ],\n",
              "       ...,\n",
              "       [0.1184 ],\n",
              "       [0.09204],\n",
              "       [0.584  ]], dtype=float16)"
            ]
          },
          "metadata": {},
          "execution_count": 16
        }
      ],
      "source": [
        "model.predict(x_test)"
      ]
    },
    {
      "cell_type": "code",
      "execution_count": 17,
      "metadata": {
        "colab": {
          "base_uri": "https://localhost:8080/"
        },
        "id": "HeKhARuVxAQR",
        "outputId": "3ce6b55e-1172-4949-80e2-756a816dab4a"
      },
      "outputs": [
        {
          "output_type": "stream",
          "name": "stdout",
          "text": [
            "Downloading data from https://storage.googleapis.com/tensorflow/tf-keras-datasets/reuters.npz\n",
            "2110848/2110848 [==============================] - 0s 0us/step\n"
          ]
        }
      ],
      "source": [
        "from tensorflow.keras.datasets import reuters\n",
        "\n",
        "(train_data, train_labels), (test_data, test_labels) = reuters.load_data(num_words=10000)"
      ]
    },
    {
      "cell_type": "code",
      "execution_count": 18,
      "metadata": {
        "colab": {
          "base_uri": "https://localhost:8080/"
        },
        "id": "CG72UTKwyA9g",
        "outputId": "1afc0ee0-383d-4a5b-c259-171cd1e2ac4c"
      },
      "outputs": [
        {
          "output_type": "execute_result",
          "data": {
            "text/plain": [
              "8982"
            ]
          },
          "metadata": {},
          "execution_count": 18
        }
      ],
      "source": [
        "len(train_data)"
      ]
    },
    {
      "cell_type": "code",
      "execution_count": 19,
      "metadata": {
        "colab": {
          "base_uri": "https://localhost:8080/"
        },
        "id": "YO0dxHXbyCzG",
        "outputId": "595b5a15-653c-4b18-e4e7-bbfc2dfd84db"
      },
      "outputs": [
        {
          "output_type": "execute_result",
          "data": {
            "text/plain": [
              "2246"
            ]
          },
          "metadata": {},
          "execution_count": 19
        }
      ],
      "source": [
        "len(test_data)"
      ]
    },
    {
      "cell_type": "code",
      "execution_count": 20,
      "metadata": {
        "colab": {
          "base_uri": "https://localhost:8080/"
        },
        "id": "jrgLo0iryDY_",
        "outputId": "9e9c336e-7b08-4b50-8279-d6c6fb04d9da"
      },
      "outputs": [
        {
          "output_type": "stream",
          "name": "stdout",
          "text": [
            "Downloading data from https://storage.googleapis.com/tensorflow/tf-keras-datasets/reuters_word_index.json\n",
            "550378/550378 [==============================] - 0s 0us/step\n"
          ]
        }
      ],
      "source": [
        "# 로이터 데이터셋을 텍스트로 디코딩하기\n",
        "word_index = reuters.get_word_index()\n",
        "reverse_word_index = dict(\n",
        "    [(value, key) for (key, value) in word_index.items()])\n",
        "decoded_newswire = \" \".join(\n",
        "    [reverse_word_index.get(i - 3, \"?\") for i in train_data[0]])"
      ]
    },
    {
      "cell_type": "code",
      "execution_count": 21,
      "metadata": {
        "id": "KL5AFbWxyZiZ"
      },
      "outputs": [],
      "source": [
        "x_train = vectorize_sequences(train_data)\n",
        "x_test = vectorize_sequences(test_data)"
      ]
    },
    {
      "cell_type": "code",
      "execution_count": 22,
      "metadata": {
        "id": "uyKqp1jTygqA"
      },
      "outputs": [],
      "source": [
        "def to_one_hot(labels, dimension=46):\n",
        "  results = np.zeros((len(labels), dimension))\n",
        "  for i, label in enumerate(labels):\n",
        "    results[i, label] = 1.\n",
        "  return results"
      ]
    },
    {
      "cell_type": "code",
      "execution_count": 23,
      "metadata": {
        "id": "9BiUW-yuzGAF"
      },
      "outputs": [],
      "source": [
        "y_train = to_one_hot(train_labels)\n",
        "y_test = to_one_hot(test_labels)"
      ]
    },
    {
      "cell_type": "code",
      "execution_count": 24,
      "metadata": {
        "colab": {
          "base_uri": "https://localhost:8080/"
        },
        "id": "mEOClwnvzMRo",
        "outputId": "944d0937-b2ba-49e7-c76b-cd5b2f728482"
      },
      "outputs": [
        {
          "output_type": "execute_result",
          "data": {
            "text/plain": [
              "array([[0., 0., 0., ..., 0., 0., 0.],\n",
              "       [0., 0., 0., ..., 0., 0., 0.],\n",
              "       [0., 0., 0., ..., 0., 0., 0.],\n",
              "       ...,\n",
              "       [0., 0., 0., ..., 0., 0., 0.],\n",
              "       [0., 0., 0., ..., 0., 0., 0.],\n",
              "       [0., 0., 0., ..., 0., 0., 0.]])"
            ]
          },
          "metadata": {},
          "execution_count": 24
        }
      ],
      "source": [
        "y_train"
      ]
    },
    {
      "cell_type": "code",
      "execution_count": 25,
      "metadata": {
        "id": "URAoPcoAyyT-"
      },
      "outputs": [],
      "source": [
        "# 케라스 내장 함수 사용\n",
        "from tensorflow.keras.utils import to_categorical\n",
        "\n",
        "y_train_ = to_categorical(train_labels)\n",
        "y_test_ = to_categorical(test_labels)"
      ]
    },
    {
      "cell_type": "code",
      "execution_count": 26,
      "metadata": {
        "colab": {
          "base_uri": "https://localhost:8080/"
        },
        "id": "aAuwEqO0zQ8J",
        "outputId": "285578f9-3b2c-477f-e511-c978cfe3d40a"
      },
      "outputs": [
        {
          "output_type": "execute_result",
          "data": {
            "text/plain": [
              "array([[0., 0., 0., ..., 0., 0., 0.],\n",
              "       [0., 0., 0., ..., 0., 0., 0.],\n",
              "       [0., 0., 0., ..., 0., 0., 0.],\n",
              "       ...,\n",
              "       [0., 0., 0., ..., 0., 0., 0.],\n",
              "       [0., 0., 0., ..., 0., 0., 0.],\n",
              "       [0., 0., 0., ..., 0., 0., 0.]], dtype=float32)"
            ]
          },
          "metadata": {},
          "execution_count": 26
        }
      ],
      "source": [
        "y_train_"
      ]
    },
    {
      "cell_type": "code",
      "execution_count": 27,
      "metadata": {
        "id": "N-vrr-1ozRnu"
      },
      "outputs": [],
      "source": [
        "model = keras.Sequential([\n",
        "    layers.Dense(64, activation=\"relu\"),\n",
        "    layers.Dense(64, activation=\"relu\"),\n",
        "    layers.Dense(46, activation=\"softmax\")\n",
        "])"
      ]
    },
    {
      "cell_type": "code",
      "execution_count": 28,
      "metadata": {
        "id": "yE3_BW6n0qWx"
      },
      "outputs": [],
      "source": [
        "model.compile(optimizer=\"rmsprop\",\n",
        "              loss=\"categorical_crossentropy\",\n",
        "              metrics=[\"accuracy\"])"
      ]
    },
    {
      "cell_type": "code",
      "execution_count": 29,
      "metadata": {
        "id": "w51AyYEm0x64"
      },
      "outputs": [],
      "source": [
        "x_val = x_train[:1000]\n",
        "partial_x_train = x_train[1000:]\n",
        "y_val = y_train[:1000]\n",
        "partial_y_train = y_train[1000:]"
      ]
    },
    {
      "cell_type": "code",
      "execution_count": 30,
      "metadata": {
        "colab": {
          "base_uri": "https://localhost:8080/"
        },
        "id": "Pl3tgRrF06zN",
        "outputId": "f9115184-4d97-4012-83d4-973f983bd9bf"
      },
      "outputs": [
        {
          "output_type": "stream",
          "name": "stdout",
          "text": [
            "Epoch 1/20\n",
            "16/16 [==============================] - 2s 39ms/step - loss: 2.9141 - accuracy: 0.4800 - val_loss: 1.9600 - val_accuracy: 0.6050\n",
            "Epoch 2/20\n",
            "16/16 [==============================] - 0s 20ms/step - loss: 1.6309 - accuracy: 0.6758 - val_loss: 1.4238 - val_accuracy: 0.6782\n",
            "Epoch 3/20\n",
            "16/16 [==============================] - 0s 19ms/step - loss: 1.2402 - accuracy: 0.7329 - val_loss: 1.2256 - val_accuracy: 0.7290\n",
            "Epoch 4/20\n",
            "16/16 [==============================] - 0s 21ms/step - loss: 1.0176 - accuracy: 0.7749 - val_loss: 1.1211 - val_accuracy: 0.7559\n",
            "Epoch 5/20\n",
            "16/16 [==============================] - 0s 13ms/step - loss: 0.8550 - accuracy: 0.8140 - val_loss: 1.0469 - val_accuracy: 0.7749\n",
            "Epoch 6/20\n",
            "16/16 [==============================] - 0s 12ms/step - loss: 0.7217 - accuracy: 0.8457 - val_loss: 1.0039 - val_accuracy: 0.7832\n",
            "Epoch 7/20\n",
            "16/16 [==============================] - 0s 15ms/step - loss: 0.6079 - accuracy: 0.8716 - val_loss: 0.9570 - val_accuracy: 0.8008\n",
            "Epoch 8/20\n",
            "16/16 [==============================] - 0s 21ms/step - loss: 0.5190 - accuracy: 0.8906 - val_loss: 0.9194 - val_accuracy: 0.8071\n",
            "Epoch 9/20\n",
            "16/16 [==============================] - 0s 15ms/step - loss: 0.4431 - accuracy: 0.9038 - val_loss: 0.9019 - val_accuracy: 0.8120\n",
            "Epoch 10/20\n",
            "16/16 [==============================] - 0s 11ms/step - loss: 0.3779 - accuracy: 0.9189 - val_loss: 0.9526 - val_accuracy: 0.7881\n",
            "Epoch 11/20\n",
            "16/16 [==============================] - 0s 17ms/step - loss: 0.3352 - accuracy: 0.9292 - val_loss: 0.9194 - val_accuracy: 0.8081\n",
            "Epoch 12/20\n",
            "16/16 [==============================] - 0s 15ms/step - loss: 0.2893 - accuracy: 0.9360 - val_loss: 0.9023 - val_accuracy: 0.8101\n",
            "Epoch 13/20\n",
            "16/16 [==============================] - 0s 20ms/step - loss: 0.2593 - accuracy: 0.9404 - val_loss: 0.9219 - val_accuracy: 0.8140\n",
            "Epoch 14/20\n",
            "16/16 [==============================] - 0s 22ms/step - loss: 0.2333 - accuracy: 0.9443 - val_loss: 0.9131 - val_accuracy: 0.8101\n",
            "Epoch 15/20\n",
            "16/16 [==============================] - 0s 22ms/step - loss: 0.2107 - accuracy: 0.9478 - val_loss: 0.8906 - val_accuracy: 0.8242\n",
            "Epoch 16/20\n",
            "16/16 [==============================] - 0s 16ms/step - loss: 0.1914 - accuracy: 0.9502 - val_loss: 0.9028 - val_accuracy: 0.8242\n",
            "Epoch 17/20\n",
            "16/16 [==============================] - 0s 16ms/step - loss: 0.1781 - accuracy: 0.9536 - val_loss: 0.9277 - val_accuracy: 0.8120\n",
            "Epoch 18/20\n",
            "16/16 [==============================] - 0s 16ms/step - loss: 0.1700 - accuracy: 0.9507 - val_loss: 0.9292 - val_accuracy: 0.8110\n",
            "Epoch 19/20\n",
            "16/16 [==============================] - 0s 16ms/step - loss: 0.1522 - accuracy: 0.9565 - val_loss: 0.9458 - val_accuracy: 0.8091\n",
            "Epoch 20/20\n",
            "16/16 [==============================] - 0s 17ms/step - loss: 0.1464 - accuracy: 0.9565 - val_loss: 0.9551 - val_accuracy: 0.8169\n"
          ]
        }
      ],
      "source": [
        "history = model.fit(partial_x_train,\n",
        "                    partial_y_train,\n",
        "                    epochs=20,\n",
        "                    batch_size=512,\n",
        "                    validation_data=(x_val, y_val))"
      ]
    },
    {
      "cell_type": "code",
      "execution_count": 31,
      "metadata": {
        "colab": {
          "base_uri": "https://localhost:8080/",
          "height": 472
        },
        "id": "chZ6u4JV1DdF",
        "outputId": "3d7bddd8-e185-41cb-f341-9f60cb252058"
      },
      "outputs": [
        {
          "output_type": "display_data",
          "data": {
            "text/plain": [
              "<Figure size 640x480 with 1 Axes>"
            ],
            "image/png": "[encoded data removed]"
          },
          "metadata": {}
        }
      ],
      "source": [
        "loss = history.history[\"loss\"]\n",
        "val_loss = history.history[\"val_loss\"]\n",
        "epochs = range(1, len(loss) + 1)\n",
        "plt.plot(epochs, loss, \"bo\", label=\"Training loss\")\n",
        "plt.plot(epochs, val_loss, \"b\", label=\"Validation loss\")\n",
        "plt.title(\"Training and validation loss\")\n",
        "plt.xlabel(\"Epochs\")\n",
        "plt.ylabel(\"Loss\")\n",
        "plt.legend()\n",
        "plt.show()"
      ]
    },
    {
      "cell_type": "code",
      "execution_count": 32,
      "metadata": {
        "colab": {
          "base_uri": "https://localhost:8080/",
          "height": 472
        },
        "id": "MwD8J1Mm1jiF",
        "outputId": "c6f46c75-dd40-48b5-ac19-57b19ecaf40a"
      },
      "outputs": [
        {
          "output_type": "display_data",
          "data": {
            "text/plain": [
              "<Figure size 640x480 with 1 Axes>"
            ],
            "image/png": "[encoded data removed]"
          },
          "metadata": {}
        }
      ],
      "source": [
        "plt.clf()\n",
        "acc = history.history[\"accuracy\"]\n",
        "val_acc = history.history[\"val_accuracy\"]\n",
        "plt.plot(epochs, acc, \"bo\", label=\"Training accuracy\")\n",
        "plt.plot(epochs, val_acc, \"b\", label =\"Validation accuracy\")\n",
        "plt.title(\"Training and validation accuracy\")\n",
        "plt.xlabel(\"Epochs\")\n",
        "plt.ylabel(\"Accuracy\")\n",
        "plt.legend()\n",
        "plt.show()"
      ]
    },
    {
      "cell_type": "code",
      "execution_count": 33,
      "metadata": {
        "colab": {
          "base_uri": "https://localhost:8080/"
        },
        "id": "VzvN0z8f2k3o",
        "outputId": "c93d260a-ab18-4248-e46a-0b246250f505"
      },
      "outputs": [
        {
          "output_type": "stream",
          "name": "stdout",
          "text": [
            "Epoch 1/9\n",
            "18/18 [==============================] - 2s 9ms/step - loss: 2.6152 - accuracy: 0.5273\n",
            "Epoch 2/9\n",
            "18/18 [==============================] - 0s 10ms/step - loss: 1.4688 - accuracy: 0.6875\n",
            "Epoch 3/9\n",
            "18/18 [==============================] - 0s 10ms/step - loss: 1.1270 - accuracy: 0.7534\n",
            "Epoch 4/9\n",
            "18/18 [==============================] - 0s 14ms/step - loss: 0.9233 - accuracy: 0.8047\n",
            "Epoch 5/9\n",
            "18/18 [==============================] - 0s 9ms/step - loss: 0.7695 - accuracy: 0.8379\n",
            "Epoch 6/9\n",
            "18/18 [==============================] - 0s 11ms/step - loss: 0.6392 - accuracy: 0.8662\n",
            "Epoch 7/9\n",
            "18/18 [==============================] - 0s 14ms/step - loss: 0.5396 - accuracy: 0.8867\n",
            "Epoch 8/9\n",
            "18/18 [==============================] - 0s 12ms/step - loss: 0.4617 - accuracy: 0.9019\n",
            "Epoch 9/9\n",
            "18/18 [==============================] - 0s 11ms/step - loss: 0.3921 - accuracy: 0.9170\n",
            "71/71 [==============================] - 0s 4ms/step - loss: 0.9136 - accuracy: 0.7910\n"
          ]
        }
      ],
      "source": [
        "model = keras.Sequential([\n",
        "    layers.Dense(64, activation=\"relu\"),\n",
        "    layers.Dense(64, activation=\"relu\"),\n",
        "    layers.Dense(46, activation=\"softmax\")\n",
        "])\n",
        "model.compile(optimizer=\"rmsprop\",\n",
        "              loss=\"categorical_crossentropy\",\n",
        "              metrics=[\"accuracy\"])\n",
        "model.fit(x_train,\n",
        "          y_train,\n",
        "          epochs=9,\n",
        "          batch_size=512)\n",
        "results = model.evaluate(x_test, y_test)"
      ]
    },
    {
      "cell_type": "code",
      "execution_count": 34,
      "metadata": {
        "colab": {
          "base_uri": "https://localhost:8080/"
        },
        "id": "MJd6F64r5RxO",
        "outputId": "3a39443c-7ac1-41c9-9b4c-832fc58edf43"
      },
      "outputs": [
        {
          "output_type": "execute_result",
          "data": {
            "text/plain": [
              "[0.91357421875, 0.791015625]"
            ]
          },
          "metadata": {},
          "execution_count": 34
        }
      ],
      "source": [
        "results # 정확도: 약 80%"
      ]
    },
    {
      "cell_type": "code",
      "execution_count": 35,
      "metadata": {
        "colab": {
          "base_uri": "https://localhost:8080/"
        },
        "id": "_6CZjedR5hfS",
        "outputId": "b8c80443-6f1f-4834-8ebf-68280d5d3db6"
      },
      "outputs": [
        {
          "output_type": "stream",
          "name": "stdout",
          "text": [
            "71/71 [==============================] - 0s 4ms/step\n"
          ]
        }
      ],
      "source": [
        "predictions = model.predict(x_test)"
      ]
    },
    {
      "cell_type": "code",
      "execution_count": 36,
      "metadata": {
        "id": "Rg3P-ev75mJI"
      },
      "outputs": [],
      "source": [
        "# 정수 텐서로 변환\n",
        "y_train = np.array(train_labels)\n",
        "y_test = np.array(test_labels)"
      ]
    },
    {
      "cell_type": "code",
      "execution_count": 37,
      "metadata": {
        "id": "5ju6YNHJ5yZd"
      },
      "outputs": [],
      "source": [
        "model.compile(optimizer=\"rmsprop\",\n",
        "              loss=\"sparse_categorical_crossentropy\",\n",
        "              metrics=[\"accuracy\"])"
      ]
    },
    {
      "cell_type": "code",
      "execution_count": 38,
      "metadata": {
        "colab": {
          "base_uri": "https://localhost:8080/"
        },
        "id": "VBMjer1C56Dn",
        "outputId": "9e00f8e1-4cff-4815-8066-dacf01e94258"
      },
      "outputs": [
        {
          "output_type": "stream",
          "name": "stdout",
          "text": [
            "Epoch 1/20\n",
            "63/63 [==============================] - 1s 10ms/step - loss: 3.4023 - accuracy: 0.1022 - val_loss: 2.7871 - val_accuracy: 0.5518\n",
            "Epoch 2/20\n",
            "63/63 [==============================] - 0s 7ms/step - loss: 2.2051 - accuracy: 0.5854 - val_loss: 1.7520 - val_accuracy: 0.6191\n",
            "Epoch 3/20\n",
            "63/63 [==============================] - 1s 9ms/step - loss: 1.4961 - accuracy: 0.6411 - val_loss: 1.4404 - val_accuracy: 0.6582\n",
            "Epoch 4/20\n",
            "63/63 [==============================] - 0s 6ms/step - loss: 1.2539 - accuracy: 0.7002 - val_loss: 1.3633 - val_accuracy: 0.6870\n",
            "Epoch 5/20\n",
            "63/63 [==============================] - 0s 8ms/step - loss: 1.1260 - accuracy: 0.7314 - val_loss: 1.3135 - val_accuracy: 0.6982\n",
            "Epoch 6/20\n",
            "63/63 [==============================] - 0s 5ms/step - loss: 1.0342 - accuracy: 0.7461 - val_loss: 1.2861 - val_accuracy: 0.6929\n",
            "Epoch 7/20\n",
            "63/63 [==============================] - 0s 8ms/step - loss: 0.9580 - accuracy: 0.7563 - val_loss: 1.2803 - val_accuracy: 0.6958\n",
            "Epoch 8/20\n",
            "63/63 [==============================] - 0s 6ms/step - loss: 0.8950 - accuracy: 0.7642 - val_loss: 1.2764 - val_accuracy: 0.6948\n",
            "Epoch 9/20\n",
            "63/63 [==============================] - 0s 8ms/step - loss: 0.8398 - accuracy: 0.7793 - val_loss: 1.2676 - val_accuracy: 0.6929\n",
            "Epoch 10/20\n",
            "63/63 [==============================] - 0s 8ms/step - loss: 0.7886 - accuracy: 0.7881 - val_loss: 1.2803 - val_accuracy: 0.6919\n",
            "Epoch 11/20\n",
            "63/63 [==============================] - 1s 8ms/step - loss: 0.7417 - accuracy: 0.7998 - val_loss: 1.2666 - val_accuracy: 0.7061\n",
            "Epoch 12/20\n",
            "63/63 [==============================] - 1s 8ms/step - loss: 0.6992 - accuracy: 0.8081 - val_loss: 1.2822 - val_accuracy: 0.7002\n",
            "Epoch 13/20\n",
            "63/63 [==============================] - 0s 7ms/step - loss: 0.6606 - accuracy: 0.8135 - val_loss: 1.3008 - val_accuracy: 0.7119\n",
            "Epoch 14/20\n",
            "63/63 [==============================] - 1s 8ms/step - loss: 0.6294 - accuracy: 0.8237 - val_loss: 1.2988 - val_accuracy: 0.7109\n",
            "Epoch 15/20\n",
            "63/63 [==============================] - 1s 8ms/step - loss: 0.5991 - accuracy: 0.8291 - val_loss: 1.3438 - val_accuracy: 0.7119\n",
            "Epoch 16/20\n",
            "63/63 [==============================] - 0s 6ms/step - loss: 0.5728 - accuracy: 0.8345 - val_loss: 1.3506 - val_accuracy: 0.7109\n",
            "Epoch 17/20\n",
            "63/63 [==============================] - 0s 8ms/step - loss: 0.5498 - accuracy: 0.8418 - val_loss: 1.3701 - val_accuracy: 0.7168\n",
            "Epoch 18/20\n",
            "63/63 [==============================] - 0s 6ms/step - loss: 0.5220 - accuracy: 0.8506 - val_loss: 1.4131 - val_accuracy: 0.7261\n",
            "Epoch 19/20\n",
            "63/63 [==============================] - 0s 7ms/step - loss: 0.5024 - accuracy: 0.8638 - val_loss: 1.4141 - val_accuracy: 0.7241\n",
            "Epoch 20/20\n",
            "63/63 [==============================] - 1s 10ms/step - loss: 0.4829 - accuracy: 0.8696 - val_loss: 1.4463 - val_accuracy: 0.7202\n"
          ]
        },
        {
          "output_type": "execute_result",
          "data": {
            "text/plain": [
              "<keras.src.callbacks.History at 0x7f91d55200a0>"
            ]
          },
          "metadata": {},
          "execution_count": 38
        }
      ],
      "source": [
        "model = keras.Sequential([\n",
        "    layers.Dense(64, activation=\"relu\"),\n",
        "    layers.Dense(4, activation=\"relu\"),\n",
        "    layers.Dense(46, activation=\"softmax\")\n",
        "])\n",
        "\n",
        "model.compile(optimizer=\"rmsprop\",\n",
        "              loss=\"categorical_crossentropy\",\n",
        "              metrics=[\"accuracy\"])\n",
        "model.fit(partial_x_train,\n",
        "          partial_y_train,\n",
        "          epochs=20,\n",
        "          batch_size=128,\n",
        "          validation_data=(x_val, y_val))"
      ]
    },
    {
      "cell_type": "markdown",
      "metadata": {
        "id": "WTv8mD5y6rFA"
      },
      "source": [
        "## 4.3 주택 가격 예측: 회귀 문제"
      ]
    },
    {
      "cell_type": "code",
      "execution_count": 39,
      "metadata": {
        "colab": {
          "base_uri": "https://localhost:8080/"
        },
        "id": "_chWX-c56iss",
        "outputId": "ae55290b-c95e-43ef-ecb8-8a6eedbf1d1e"
      },
      "outputs": [
        {
          "output_type": "stream",
          "name": "stdout",
          "text": [
            "Downloading data from https://storage.googleapis.com/tensorflow/tf-keras-datasets/boston_housing.npz\n",
            "57026/57026 [==============================] - 0s 0us/step\n"
          ]
        }
      ],
      "source": [
        "from tensorflow.keras.datasets import boston_housing\n",
        "\n",
        "(train_data, train_targets), (test_data, test_targets) = boston_housing.load_data()"
      ]
    },
    {
      "cell_type": "code",
      "execution_count": 40,
      "metadata": {
        "colab": {
          "base_uri": "https://localhost:8080/"
        },
        "id": "COleca1l6-81",
        "outputId": "99ac3090-ca51-496c-f3a9-8bc92fc5d20b"
      },
      "outputs": [
        {
          "output_type": "execute_result",
          "data": {
            "text/plain": [
              "(404, 13)"
            ]
          },
          "metadata": {},
          "execution_count": 40
        }
      ],
      "source": [
        "train_data.shape"
      ]
    },
    {
      "cell_type": "code",
      "execution_count": 41,
      "metadata": {
        "colab": {
          "base_uri": "https://localhost:8080/"
        },
        "id": "fZki8vux7BHV",
        "outputId": "9903aee2-e270-4a6d-abcf-9ffc96525348"
      },
      "outputs": [
        {
          "output_type": "execute_result",
          "data": {
            "text/plain": [
              "(102, 13)"
            ]
          },
          "metadata": {},
          "execution_count": 41
        }
      ],
      "source": [
        "test_data.shape"
      ]
    },
    {
      "cell_type": "code",
      "execution_count": 42,
      "metadata": {
        "colab": {
          "base_uri": "https://localhost:8080/"
        },
        "id": "oGXMqQ6w7B8I",
        "outputId": "adbbdd71-f67b-41f9-b885-92613e71cfd4"
      },
      "outputs": [
        {
          "output_type": "execute_result",
          "data": {
            "text/plain": [
              "array([15.2, 42.3, 50. , 21.1, 17.7, 18.5, 11.3, 15.6, 15.6, 14.4])"
            ]
          },
          "metadata": {},
          "execution_count": 42
        }
      ],
      "source": [
        "train_targets[:10]"
      ]
    },
    {
      "cell_type": "code",
      "execution_count": 43,
      "metadata": {
        "id": "O3158iv97DP7"
      },
      "outputs": [],
      "source": [
        "# 데이터 정규화하기\n",
        "mean = train_data.mean(axis=0)\n",
        "train_data -= mean\n",
        "std = train_data.std(axis=0)\n",
        "train_data /= std\n",
        "test_data -= mean\n",
        "test_data /= std"
      ]
    },
    {
      "cell_type": "code",
      "execution_count": 44,
      "metadata": {
        "id": "BnlMDEOL7S27"
      },
      "outputs": [],
      "source": [
        "# 모델 정의하기\n",
        "def build_model():\n",
        "  model = keras.Sequential([\n",
        "      layers.Dense(64, activation=\"relu\"),\n",
        "      layers.Dense(64, activation=\"relu\"),\n",
        "      layers.Dense(1)\n",
        "  ])\n",
        "  model.compile(optimizer=\"rmsprop\", loss=\"mse\", metrics=[\"mae\"])\n",
        "  return model"
      ]
    },
    {
      "cell_type": "code",
      "execution_count": 45,
      "metadata": {
        "colab": {
          "base_uri": "https://localhost:8080/"
        },
        "id": "kOePFjxe7lNt",
        "outputId": "c43a8ec7-8e70-4055-d05c-5ff7c02dcf3f"
      },
      "outputs": [
        {
          "output_type": "stream",
          "name": "stdout",
          "text": [
            "#0번째 폴드 처리중\n",
            "#1번째 폴드 처리중\n",
            "#2번째 폴드 처리중\n",
            "#3번째 폴드 처리중\n"
          ]
        }
      ],
      "source": [
        "# K-겹 검증하기\n",
        "k = 4\n",
        "num_val_samples = len(train_data) // k\n",
        "num_epochs = 100\n",
        "all_scores = []\n",
        "for i in range(k):\n",
        "  print(f\"#{i}번째 폴드 처리중\")\n",
        "  val_data = train_data[i * num_val_samples: (i + 1) * num_val_samples]\n",
        "  val_targets = train_targets[i * num_val_samples: (i + 1) * num_val_samples]\n",
        "  partial_train_data = np.concatenate(\n",
        "      [train_data[:i * num_val_samples],\n",
        "       train_data[(i + 1) * num_val_samples:]],\n",
        "      axis = 0)\n",
        "  partial_train_targets = np.concatenate(\n",
        "      [train_targets[: i * num_val_samples],\n",
        "       train_targets[(i + 1) * num_val_samples:]], axis = 0)\n",
        "  model = build_model()\n",
        "  model.fit(partial_train_data, partial_train_targets,\n",
        "            epochs=num_epochs, batch_size=16, verbose=0)\n",
        "  val_mse, val_mae = model.evaluate(val_data, val_targets, verbose = 0)\n",
        "  all_scores.append(val_mae)"
      ]
    },
    {
      "cell_type": "code",
      "execution_count": 46,
      "metadata": {
        "colab": {
          "base_uri": "https://localhost:8080/"
        },
        "id": "v3zKjRD982th",
        "outputId": "8b7ab1b8-3ffa-44aa-bdbe-89bd07f19dba"
      },
      "outputs": [
        {
          "output_type": "execute_result",
          "data": {
            "text/plain": [
              "[1.8466796875, 2.349609375, 2.318359375, 2.359375]"
            ]
          },
          "metadata": {},
          "execution_count": 46
        }
      ],
      "source": [
        "all_scores"
      ]
    },
    {
      "cell_type": "code",
      "execution_count": 47,
      "metadata": {
        "colab": {
          "base_uri": "https://localhost:8080/"
        },
        "id": "LkDvi7pC9E-1",
        "outputId": "c929d317-71a1-461c-8990-16691c4973d3"
      },
      "outputs": [
        {
          "output_type": "execute_result",
          "data": {
            "text/plain": [
              "2.218505859375"
            ]
          },
          "metadata": {},
          "execution_count": 47
        }
      ],
      "source": [
        "np.mean(all_scores)"
      ]
    },
    {
      "cell_type": "code",
      "execution_count": 60,
      "metadata": {
        "colab": {
          "base_uri": "https://localhost:8080/"
        },
        "id": "HWqGCKVH9F_P",
        "outputId": "9c541c20-034d-49a5-84da-b7eb826040d1"
      },
      "outputs": [
        {
          "output_type": "stream",
          "name": "stdout",
          "text": [
            "#0번째 폴드 처리중\n",
            "#1번째 폴드 처리중\n",
            "#2번째 폴드 처리중\n",
            "#3번째 폴드 처리중\n"
          ]
        }
      ],
      "source": [
        "# 각 폴드의 검증 점수 저장하기\n",
        "num_epochs = 500\n",
        "all_mae_histories = []\n",
        "for i in range(k):\n",
        "    print(f\"#{i}번째 폴드 처리중\")\n",
        "    val_data = train_data[i * num_val_samples: (i + 1) * num_val_samples]\n",
        "    val_targets = train_targets[i * num_val_samples: (i + 1) * num_val_samples]\n",
        "    partial_train_data = np.concatenate(\n",
        "        [train_data[:i * num_val_samples],\n",
        "         train_data[(i + 1) * num_val_samples:]],\n",
        "        axis=0)\n",
        "    partial_train_targets = np.concatenate(\n",
        "        [train_targets[:i * num_val_samples],\n",
        "         train_targets[(i + 1) * num_val_samples:]],\n",
        "        axis=0)\n",
        "    model = build_model()\n",
        "    history = model.fit(partial_train_data, partial_train_targets,\n",
        "                        validation_data=(val_data, val_targets),\n",
        "                        epochs=num_epochs, batch_size=16, verbose=0)\n",
        "    mae_history = history.history[\"val_mae\"]\n",
        "    all_mae_histories.append(mae_history)"
      ]
    },
    {
      "cell_type": "code",
      "execution_count": 61,
      "metadata": {
        "id": "M9mWQ2jG-BR7"
      },
      "outputs": [],
      "source": [
        "average_mae_history = [\n",
        "    np.mean([x[i] for x in all_mae_histories]) for i in range(num_epochs)]"
      ]
    },
    {
      "cell_type": "code",
      "source": [
        "plt.plot(range(1, len(average_mae_history) + 1), average_mae_history)\n",
        "plt.xlabel(\"Epochs\")\n",
        "plt.ylabel(\"Validation MAE\")\n",
        "plt.show()"
      ],
      "metadata": {
        "colab": {
          "base_uri": "https://localhost:8080/",
          "height": 449
        },
        "id": "yL6Hq4JUORMP",
        "outputId": "68b7d7f3-7864-4147-a9b8-b94dc21fbb3a"
      },
      "execution_count": 62,
      "outputs": [
        {
          "output_type": "display_data",
          "data": {
            "text/plain": [
              "<Figure size 640x480 with 1 Axes>"
            ],
            "image/png": "[encoded data removed]"
          },
          "metadata": {}
        }
      ]
    },
    {
      "cell_type": "code",
      "source": [
        "truncated_mae_history = average_mae_history[10:]\n",
        "plt.plot(range(1, len(truncated_mae_history) + 1), truncated_mae_history)\n",
        "plt.xlabel(\"Epochs\")\n",
        "plt.ylabel(\"Validation MAE\")\n",
        "plt.show()"
      ],
      "metadata": {
        "colab": {
          "base_uri": "https://localhost:8080/",
          "height": 449
        },
        "id": "HuUuGn1_Odaq",
        "outputId": "7eed6455-d96d-4653-98b8-6a643bb423ad"
      },
      "execution_count": 63,
      "outputs": [
        {
          "output_type": "display_data",
          "data": {
            "text/plain": [
              "<Figure size 640x480 with 1 Axes>"
            ],
            "image/png": "[encoded data removed]"
          },
          "metadata": {}
        }
      ]
    },
    {
      "cell_type": "code",
      "source": [
        "model = build_model()\n",
        "model.fit(train_data, train_targets,\n",
        "          epochs=130, batch_size=16, verbose=0)\n",
        "test_mse_score, test_mae_score = model.evaluate(test_data, test_targets)"
      ],
      "metadata": {
        "colab": {
          "base_uri": "https://localhost:8080/"
        },
        "id": "-EpfBBhwOutT",
        "outputId": "6243e119-7138-4f67-b8d6-92fb0853d51b"
      },
      "execution_count": 64,
      "outputs": [
        {
          "output_type": "stream",
          "name": "stdout",
          "text": [
            "4/4 [==============================] - 0s 4ms/step - loss: 17.0938 - mae: 2.5879\n"
          ]
        }
      ]
    },
    {
      "cell_type": "code",
      "source": [
        "test_mae_score"
      ],
      "metadata": {
        "colab": {
          "base_uri": "https://localhost:8080/"
        },
        "id": "xSlJM68FO9la",
        "outputId": "b207d2cd-344f-4f3d-e819-7f618aef3f30"
      },
      "execution_count": 65,
      "outputs": [
        {
          "output_type": "execute_result",
          "data": {
            "text/plain": [
              "2.587890625"
            ]
          },
          "metadata": {},
          "execution_count": 65
        }
      ]
    },
    {
      "cell_type": "code",
      "source": [
        "predictions = model.predict(test_data)\n",
        "predictions[0] # 테서트 세트의 첫 번째 주택의 가격 예측값"
      ],
      "metadata": {
        "colab": {
          "base_uri": "https://localhost:8080/"
        },
        "id": "wteu9XNOO_gk",
        "outputId": "b033258c-5a20-474d-b436-11c32aa80591"
      },
      "execution_count": 66,
      "outputs": [
        {
          "output_type": "stream",
          "name": "stdout",
          "text": [
            "4/4 [==============================] - 0s 3ms/step\n"
          ]
        },
        {
          "output_type": "execute_result",
          "data": {
            "text/plain": [
              "array([7.883], dtype=float16)"
            ]
          },
          "metadata": {},
          "execution_count": 66
        }
      ]
    }
  ],
  "metadata": {
    "accelerator": "GPU",
    "colab": {
      "provenance": [],
      "authorship_tag": "ABX9TyM1YsVm/QHk6kCqt8bVprIJ",
      "include_colab_link": true
    },
    "kernelspec": {
      "display_name": "Python 3",
      "name": "python3"
    },
    "language_info": {
      "name": "python"
    }
  },
  "nbformat": 4,
  "nbformat_minor": 0
}