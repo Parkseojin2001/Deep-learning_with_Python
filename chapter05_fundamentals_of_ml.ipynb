{
  "nbformat": 4,
  "nbformat_minor": 0,
  "metadata": {
    "colab": {
      "provenance": [],
      "gpuType": "T4",
      "authorship_tag": "ABX9TyOgVB7WieXfiqJYAxntEFIx",
      "include_colab_link": true
    },
    "kernelspec": {
      "name": "python3",
      "display_name": "Python 3"
    },
    "language_info": {
      "name": "python"
    },
    "accelerator": "GPU"
  },
  "cells": [
    {
      "cell_type": "markdown",
      "metadata": {
        "id": "view-in-github",
        "colab_type": "text"
      },
      "source": [
        "<a href=\"https://colab.research.google.com/github/Parkseojin2001/Deep-learning_with_Python/blob/main/chapter05_fundamentals_of_ml.ipynb\" target=\"_parent\"><img src=\"https://colab.research.google.com/assets/colab-badge.svg\" alt=\"Open In Colab\"/></a>"
      ]
    },
    {
      "cell_type": "markdown",
      "source": [
        "## 5.1 일반화: 머신 러닝의 목표"
      ],
      "metadata": {
        "id": "0uMgU7Fbdm_c"
      }
    },
    {
      "cell_type": "code",
      "source": [
        "import numpy as np\n",
        "import matplotlib.pyplot as plt\n",
        "import tensorflow as tf\n",
        "\n",
        "from tensorflow.keras.datasets import mnist\n",
        "from tensorflow import keras\n",
        "from tensorflow.keras import layers"
      ],
      "metadata": {
        "id": "eSFEIsC8dxRx"
      },
      "execution_count": 1,
      "outputs": []
    },
    {
      "cell_type": "code",
      "source": [
        "tf.keras.backend.set_floatx('float16')"
      ],
      "metadata": {
        "id": "li-U6_skjYDQ"
      },
      "execution_count": 2,
      "outputs": []
    },
    {
      "cell_type": "code",
      "execution_count": 3,
      "metadata": {
        "colab": {
          "base_uri": "https://localhost:8080/"
        },
        "id": "M0SPAU9BdbDO",
        "outputId": "cf7c2124-9518-484e-860d-81eb3d7e8297"
      },
      "outputs": [
        {
          "output_type": "stream",
          "name": "stdout",
          "text": [
            "Downloading data from https://storage.googleapis.com/tensorflow/tf-keras-datasets/mnist.npz\n",
            "11490434/11490434 [==============================] - 0s 0us/step\n"
          ]
        }
      ],
      "source": [
        "# MNIST에 백색 잡음 픽셀과 0픽셀 추가하기\n",
        "(train_images, train_labels), _ = mnist.load_data()\n",
        "train_images = train_images.reshape((60000, 28 * 28))\n",
        "train_images = train_images.astype(\"float32\") / 255\n",
        "\n",
        "train_images_with_noise_channels = np.concatenate(\n",
        "    [train_images, np.random.random((len(train_images), 784))], axis=1)\n",
        "\n",
        "train_images_with_zeros_channels = np.concatenate(\n",
        "    [train_images, np.zeros((len(train_images), 784))], axis=1)"
      ]
    },
    {
      "cell_type": "code",
      "source": [
        "train_images_with_noise_channels.shape"
      ],
      "metadata": {
        "colab": {
          "base_uri": "https://localhost:8080/"
        },
        "id": "7XD5nlShjfOq",
        "outputId": "1284ef47-7283-4912-9b4a-2018f19cded9"
      },
      "execution_count": 4,
      "outputs": [
        {
          "output_type": "execute_result",
          "data": {
            "text/plain": [
              "(60000, 1568)"
            ]
          },
          "metadata": {},
          "execution_count": 4
        }
      ]
    },
    {
      "cell_type": "code",
      "source": [
        "# 백색 잡음과 0을 추가한 MNIST 데이터에서 모델 훈련하기\n",
        "def get_model():\n",
        "    model = keras.Sequential([\n",
        "        layers.Dense(512, activation=\"relu\"),\n",
        "        layers.Dense(10, activation=\"softmax\")\n",
        "    ])\n",
        "    model.compile(optimizer=\"rmsprop\",\n",
        "                  loss=\"sparse_categorical_crossentropy\",\n",
        "                  metrics=[\"accuracy\"])\n",
        "    return model\n",
        "\n",
        "model = get_model()\n",
        "history_noise = model.fit(\n",
        "    train_images_with_noise_channels, train_labels,\n",
        "    epochs=10,\n",
        "    batch_size=128,\n",
        "    validation_split=0.2)\n",
        "\n",
        "model = get_model()\n",
        "history_zeros = model.fit(\n",
        "    train_images_with_zeros_channels, train_labels,\n",
        "    epochs=10,\n",
        "    batch_size=128,\n",
        "    validation_split=0.2)"
      ],
      "metadata": {
        "colab": {
          "base_uri": "https://localhost:8080/"
        },
        "id": "c0XQiqxFfPn7",
        "outputId": "726218ec-96a6-4433-bffa-5e0bfbc3a959"
      },
      "execution_count": 5,
      "outputs": [
        {
          "output_type": "stream",
          "name": "stdout",
          "text": [
            "Epoch 1/10\n",
            "375/375 [==============================] - 3s 4ms/step - loss: 0.6138 - accuracy: 0.8188 - val_loss: 0.3347 - val_accuracy: 0.8994\n",
            "Epoch 2/10\n",
            "375/375 [==============================] - 2s 4ms/step - loss: 0.2563 - accuracy: 0.9375 - val_loss: 0.2289 - val_accuracy: 0.9341\n",
            "Epoch 3/10\n",
            "375/375 [==============================] - 1s 4ms/step - loss: 0.1670 - accuracy: 0.9673 - val_loss: 0.1771 - val_accuracy: 0.9482\n",
            "Epoch 4/10\n",
            "375/375 [==============================] - 1s 3ms/step - loss: 0.1204 - accuracy: 0.9834 - val_loss: 0.1580 - val_accuracy: 0.9521\n",
            "Epoch 5/10\n",
            "375/375 [==============================] - 1s 3ms/step - loss: 0.0879 - accuracy: 0.9907 - val_loss: 0.1532 - val_accuracy: 0.9585\n",
            "Epoch 6/10\n",
            "375/375 [==============================] - 1s 3ms/step - loss: 0.0641 - accuracy: 0.9946 - val_loss: 0.1610 - val_accuracy: 0.9521\n",
            "Epoch 7/10\n",
            "375/375 [==============================] - 1s 3ms/step - loss: 0.0484 - accuracy: 0.9961 - val_loss: 0.1238 - val_accuracy: 0.9692\n",
            "Epoch 8/10\n",
            "375/375 [==============================] - 1s 3ms/step - loss: 0.0330 - accuracy: 0.9980 - val_loss: 0.1345 - val_accuracy: 0.9614\n",
            "Epoch 9/10\n",
            "375/375 [==============================] - 1s 3ms/step - loss: 0.0241 - accuracy: 0.9985 - val_loss: 0.1370 - val_accuracy: 0.9639\n",
            "Epoch 10/10\n",
            "375/375 [==============================] - 1s 3ms/step - loss: 0.0153 - accuracy: 0.9995 - val_loss: 0.1387 - val_accuracy: 0.9673\n",
            "Epoch 1/10\n",
            "375/375 [==============================] - 2s 4ms/step - loss: 0.2981 - accuracy: 0.9268 - val_loss: 0.1439 - val_accuracy: 0.9600\n",
            "Epoch 2/10\n",
            "375/375 [==============================] - 1s 3ms/step - loss: 0.1250 - accuracy: 0.9814 - val_loss: 0.1067 - val_accuracy: 0.9707\n",
            "Epoch 3/10\n",
            "375/375 [==============================] - 1s 3ms/step - loss: 0.0823 - accuracy: 0.9912 - val_loss: 0.0938 - val_accuracy: 0.9731\n",
            "Epoch 4/10\n",
            "375/375 [==============================] - 1s 3ms/step - loss: 0.0597 - accuracy: 0.9946 - val_loss: 0.0815 - val_accuracy: 0.9775\n",
            "Epoch 5/10\n",
            "375/375 [==============================] - 1s 4ms/step - loss: 0.0457 - accuracy: 0.9976 - val_loss: 0.0772 - val_accuracy: 0.9775\n",
            "Epoch 6/10\n",
            "375/375 [==============================] - 1s 4ms/step - loss: 0.0334 - accuracy: 0.9985 - val_loss: 0.0732 - val_accuracy: 0.9829\n",
            "Epoch 7/10\n",
            "375/375 [==============================] - 1s 3ms/step - loss: 0.0258 - accuracy: 0.9995 - val_loss: 0.0765 - val_accuracy: 0.9800\n",
            "Epoch 8/10\n",
            "375/375 [==============================] - 1s 3ms/step - loss: 0.0190 - accuracy: 1.0000 - val_loss: 0.0776 - val_accuracy: 0.9814\n",
            "Epoch 9/10\n",
            "375/375 [==============================] - 1s 3ms/step - loss: 0.0141 - accuracy: 1.0000 - val_loss: 0.0758 - val_accuracy: 0.9805\n",
            "Epoch 10/10\n",
            "375/375 [==============================] - 1s 3ms/step - loss: 0.0109 - accuracy: 1.0000 - val_loss: 0.0741 - val_accuracy: 0.9819\n"
          ]
        }
      ]
    },
    {
      "cell_type": "code",
      "source": [
        "# 검증 정확도 비교 그래프 그리기\n",
        "\n",
        "val_acc_noise = history_noise.history[\"val_accuracy\"]\n",
        "val_acc_zeros = history_zeros.history[\"val_accuracy\"]\n",
        "epochs = range(1, 11)\n",
        "plt.plot(epochs, val_acc_noise, \"b-\",\n",
        "         label=\"Validation accuracy with noise channels\")\n",
        "plt.plot(epochs, val_acc_zeros, \"b--\",\n",
        "         label=\"Validation accuracy with zeros channels\")\n",
        "plt.title(\"Effect of noise channels on validation accuracy\")\n",
        "plt.xlabel(\"Epochs\")\n",
        "plt.ylabel(\"Accuracy\")\n",
        "plt.legend()\n",
        "plt.show()"
      ],
      "metadata": {
        "colab": {
          "base_uri": "https://localhost:8080/",
          "height": 472
        },
        "id": "uFYa0oFugQ1y",
        "outputId": "a2827d29-a0fe-45a1-e619-4d453cbad2b3"
      },
      "execution_count": 6,
      "outputs": [
        {
          "output_type": "display_data",
          "data": {
            "text/plain": [
              "<Figure size 640x480 with 1 Axes>"
            ],
            "image/png": "[encoded data removed]"
          },
          "metadata": {}
        }
      ]
    },
    {
      "cell_type": "code",
      "source": [
        "# 랜덤하게 섞은 레이블로 MNIST 모델 훈련하기\n",
        "(train_images, train_labels), _ = mnist.load_data()\n",
        "train_images = train_images.reshape((60000, 28 * 28))\n",
        "train_images = train_images.astype(\"float32\") / 255\n",
        "\n",
        "random_train_labels = train_labels[:]\n",
        "np.random.shuffle(random_train_labels)\n",
        "\n",
        "model = keras.Sequential([\n",
        "    layers.Dense(512, activation=\"relu\"),\n",
        "    layers.Dense(10, activation=\"softmax\")\n",
        "])\n",
        "model.compile(optimizer=\"rmsprop\",\n",
        "              loss=\"sparse_categorical_crossentropy\",\n",
        "              metrics=[\"accuracy\"])\n",
        "model.fit(train_images, random_train_labels,\n",
        "          epochs=100,\n",
        "          batch_size=128,\n",
        "          validation_split=0.2)"
      ],
      "metadata": {
        "colab": {
          "base_uri": "https://localhost:8080/"
        },
        "id": "S1u3f0rOhxnk",
        "outputId": "1e0d6a02-38a0-48d4-ee6b-c23d5cfa97d2"
      },
      "execution_count": 7,
      "outputs": [
        {
          "output_type": "stream",
          "name": "stdout",
          "text": [
            "Epoch 1/100\n",
            "375/375 [==============================] - 2s 3ms/step - loss: inf - accuracy: 0.1060 - val_loss: 2.2871 - val_accuracy: 0.1077\n",
            "Epoch 2/100\n",
            "375/375 [==============================] - 2s 5ms/step - loss: inf - accuracy: 0.1180 - val_loss: 2.2988 - val_accuracy: 0.1079\n",
            "Epoch 3/100\n",
            "375/375 [==============================] - 2s 6ms/step - loss: inf - accuracy: 0.1256 - val_loss: 2.3164 - val_accuracy: 0.1052\n",
            "Epoch 4/100\n",
            "375/375 [==============================] - 1s 4ms/step - loss: inf - accuracy: 0.1367 - val_loss: 2.3281 - val_accuracy: 0.1039\n",
            "Epoch 5/100\n",
            "375/375 [==============================] - 1s 4ms/step - loss: inf - accuracy: 0.1508 - val_loss: 2.3340 - val_accuracy: 0.1012\n",
            "Epoch 6/100\n",
            "375/375 [==============================] - 1s 3ms/step - loss: inf - accuracy: 0.1621 - val_loss: 2.3516 - val_accuracy: 0.0975\n",
            "Epoch 7/100\n",
            "375/375 [==============================] - 1s 3ms/step - loss: inf - accuracy: 0.1738 - val_loss: 2.3613 - val_accuracy: 0.0988\n",
            "Epoch 8/100\n",
            "375/375 [==============================] - 1s 3ms/step - loss: inf - accuracy: 0.1880 - val_loss: 2.3770 - val_accuracy: 0.0997\n",
            "Epoch 9/100\n",
            "375/375 [==============================] - 1s 3ms/step - loss: inf - accuracy: 0.2043 - val_loss: 2.3887 - val_accuracy: 0.0984\n",
            "Epoch 10/100\n",
            "375/375 [==============================] - 1s 3ms/step - loss: inf - accuracy: 0.2218 - val_loss: 2.4141 - val_accuracy: 0.1018\n",
            "Epoch 11/100\n",
            "375/375 [==============================] - 1s 3ms/step - loss: inf - accuracy: 0.2372 - val_loss: 2.4316 - val_accuracy: 0.0993\n",
            "Epoch 12/100\n",
            "375/375 [==============================] - 1s 3ms/step - loss: inf - accuracy: 0.2539 - val_loss: 2.4590 - val_accuracy: 0.1012\n",
            "Epoch 13/100\n",
            "375/375 [==============================] - 1s 3ms/step - loss: inf - accuracy: 0.2712 - val_loss: 2.4824 - val_accuracy: 0.1000\n",
            "Epoch 14/100\n",
            "375/375 [==============================] - 1s 3ms/step - loss: inf - accuracy: 0.2881 - val_loss: 2.5098 - val_accuracy: 0.1026\n",
            "Epoch 15/100\n",
            "375/375 [==============================] - 1s 4ms/step - loss: inf - accuracy: 0.3062 - val_loss: 2.5527 - val_accuracy: 0.0967\n",
            "Epoch 16/100\n",
            "375/375 [==============================] - 2s 4ms/step - loss: inf - accuracy: 0.3210 - val_loss: 2.5684 - val_accuracy: 0.0992\n",
            "Epoch 17/100\n",
            "375/375 [==============================] - 1s 3ms/step - loss: inf - accuracy: 0.3379 - val_loss: 2.6113 - val_accuracy: 0.1022\n",
            "Epoch 18/100\n",
            "375/375 [==============================] - 1s 3ms/step - loss: inf - accuracy: 0.3516 - val_loss: 2.6406 - val_accuracy: 0.1008\n",
            "Epoch 19/100\n",
            "375/375 [==============================] - 1s 3ms/step - loss: inf - accuracy: 0.3711 - val_loss: 2.6953 - val_accuracy: 0.0983\n",
            "Epoch 20/100\n",
            "375/375 [==============================] - 1s 3ms/step - loss: inf - accuracy: 0.3833 - val_loss: 2.7305 - val_accuracy: 0.0952\n",
            "Epoch 21/100\n",
            "375/375 [==============================] - 1s 3ms/step - loss: inf - accuracy: 0.3940 - val_loss: 2.7598 - val_accuracy: 0.0972\n",
            "Epoch 22/100\n",
            "375/375 [==============================] - 1s 3ms/step - loss: inf - accuracy: 0.4080 - val_loss: 2.8047 - val_accuracy: 0.0977\n",
            "Epoch 23/100\n",
            "375/375 [==============================] - 1s 3ms/step - loss: inf - accuracy: 0.4258 - val_loss: 2.8672 - val_accuracy: 0.0965\n",
            "Epoch 24/100\n",
            "375/375 [==============================] - 1s 3ms/step - loss: inf - accuracy: 0.4414 - val_loss: 2.8984 - val_accuracy: 0.1004\n",
            "Epoch 25/100\n",
            "375/375 [==============================] - 1s 3ms/step - loss: inf - accuracy: 0.4543 - val_loss: 2.9355 - val_accuracy: 0.0945\n",
            "Epoch 26/100\n",
            "375/375 [==============================] - 2s 4ms/step - loss: inf - accuracy: 0.4692 - val_loss: 3.0000 - val_accuracy: 0.0989\n",
            "Epoch 27/100\n",
            "375/375 [==============================] - 1s 3ms/step - loss: inf - accuracy: 0.4829 - val_loss: 3.0215 - val_accuracy: 0.0963\n",
            "Epoch 28/100\n",
            "375/375 [==============================] - 1s 3ms/step - loss: inf - accuracy: 0.4939 - val_loss: 3.0859 - val_accuracy: 0.1000\n",
            "Epoch 29/100\n",
            "375/375 [==============================] - 1s 3ms/step - loss: inf - accuracy: 0.5039 - val_loss: 3.1406 - val_accuracy: 0.0988\n",
            "Epoch 30/100\n",
            "375/375 [==============================] - 1s 3ms/step - loss: inf - accuracy: 0.5186 - val_loss: 3.2051 - val_accuracy: 0.0988\n",
            "Epoch 31/100\n",
            "375/375 [==============================] - 1s 3ms/step - loss: inf - accuracy: 0.5234 - val_loss: 3.2129 - val_accuracy: 0.1017\n",
            "Epoch 32/100\n",
            "375/375 [==============================] - 1s 3ms/step - loss: inf - accuracy: 0.5342 - val_loss: 3.2773 - val_accuracy: 0.0985\n",
            "Epoch 33/100\n",
            "375/375 [==============================] - 1s 3ms/step - loss: 1.3311 - accuracy: 0.5464 - val_loss: 3.3379 - val_accuracy: 0.1005\n",
            "Epoch 34/100\n",
            "375/375 [==============================] - 1s 3ms/step - loss: 1.3008 - accuracy: 0.5571 - val_loss: 3.3867 - val_accuracy: 0.0981\n",
            "Epoch 35/100\n",
            "375/375 [==============================] - 1s 3ms/step - loss: 1.2793 - accuracy: 0.5674 - val_loss: 3.4609 - val_accuracy: 0.0963\n",
            "Epoch 36/100\n",
            "375/375 [==============================] - 1s 3ms/step - loss: 1.2461 - accuracy: 0.5767 - val_loss: 3.4668 - val_accuracy: 0.0950\n",
            "Epoch 37/100\n",
            "375/375 [==============================] - 2s 4ms/step - loss: 1.2266 - accuracy: 0.5918 - val_loss: 3.5449 - val_accuracy: 0.0993\n",
            "Epoch 38/100\n",
            "375/375 [==============================] - 1s 4ms/step - loss: 1.2041 - accuracy: 0.5991 - val_loss: 3.5820 - val_accuracy: 0.0964\n",
            "Epoch 39/100\n",
            "375/375 [==============================] - 1s 3ms/step - loss: 1.1855 - accuracy: 0.6089 - val_loss: 3.6270 - val_accuracy: 0.0987\n",
            "Epoch 40/100\n",
            "375/375 [==============================] - 1s 3ms/step - loss: 1.1504 - accuracy: 0.6177 - val_loss: 3.7012 - val_accuracy: 0.1008\n",
            "Epoch 41/100\n",
            "375/375 [==============================] - 1s 3ms/step - loss: 1.1338 - accuracy: 0.6270 - val_loss: 3.7539 - val_accuracy: 0.1002\n",
            "Epoch 42/100\n",
            "375/375 [==============================] - 1s 3ms/step - loss: 1.1045 - accuracy: 0.6309 - val_loss: 3.8027 - val_accuracy: 0.1031\n",
            "Epoch 43/100\n",
            "375/375 [==============================] - 1s 3ms/step - loss: 1.0830 - accuracy: 0.6411 - val_loss: 3.8340 - val_accuracy: 0.0971\n",
            "Epoch 44/100\n",
            "375/375 [==============================] - 1s 3ms/step - loss: 1.0586 - accuracy: 0.6484 - val_loss: 3.9062 - val_accuracy: 0.0970\n",
            "Epoch 45/100\n",
            "375/375 [==============================] - 1s 3ms/step - loss: 1.0400 - accuracy: 0.6533 - val_loss: 3.9492 - val_accuracy: 0.1024\n",
            "Epoch 46/100\n",
            "375/375 [==============================] - 1s 3ms/step - loss: 1.0244 - accuracy: 0.6646 - val_loss: 3.9863 - val_accuracy: 0.0997\n",
            "Epoch 47/100\n",
            "375/375 [==============================] - 2s 6ms/step - loss: 1.0029 - accuracy: 0.6646 - val_loss: 4.0820 - val_accuracy: 0.1006\n",
            "Epoch 48/100\n",
            "375/375 [==============================] - 1s 4ms/step - loss: 0.9780 - accuracy: 0.6777 - val_loss: 4.1250 - val_accuracy: 0.0975\n",
            "Epoch 49/100\n",
            "375/375 [==============================] - 1s 3ms/step - loss: 0.9604 - accuracy: 0.6899 - val_loss: 4.1641 - val_accuracy: 0.0947\n",
            "Epoch 50/100\n",
            "375/375 [==============================] - 1s 3ms/step - loss: 0.9414 - accuracy: 0.6948 - val_loss: 4.2070 - val_accuracy: 0.0990\n",
            "Epoch 51/100\n",
            "375/375 [==============================] - 1s 3ms/step - loss: 0.9199 - accuracy: 0.7031 - val_loss: 4.2930 - val_accuracy: 0.0975\n",
            "Epoch 52/100\n",
            "375/375 [==============================] - 1s 3ms/step - loss: 0.9053 - accuracy: 0.7056 - val_loss: 4.3086 - val_accuracy: 0.0993\n",
            "Epoch 53/100\n",
            "375/375 [==============================] - 1s 3ms/step - loss: 0.8887 - accuracy: 0.7153 - val_loss: 4.4258 - val_accuracy: 0.1022\n",
            "Epoch 54/100\n",
            "375/375 [==============================] - 1s 3ms/step - loss: 0.8691 - accuracy: 0.7227 - val_loss: 4.4648 - val_accuracy: 0.0983\n",
            "Epoch 55/100\n",
            "375/375 [==============================] - 1s 3ms/step - loss: 0.8521 - accuracy: 0.7275 - val_loss: 4.5078 - val_accuracy: 0.0979\n",
            "Epoch 56/100\n",
            "375/375 [==============================] - 1s 3ms/step - loss: 0.8325 - accuracy: 0.7358 - val_loss: 4.5469 - val_accuracy: 0.0984\n",
            "Epoch 57/100\n",
            "375/375 [==============================] - 1s 3ms/step - loss: 0.8169 - accuracy: 0.7422 - val_loss: 4.5977 - val_accuracy: 0.0992\n",
            "Epoch 58/100\n",
            "375/375 [==============================] - 1s 4ms/step - loss: 0.7998 - accuracy: 0.7466 - val_loss: 4.6680 - val_accuracy: 0.1011\n",
            "Epoch 59/100\n",
            "375/375 [==============================] - 1s 3ms/step - loss: 0.7847 - accuracy: 0.7495 - val_loss: 4.6719 - val_accuracy: 0.0987\n",
            "Epoch 60/100\n",
            "375/375 [==============================] - 1s 3ms/step - loss: 0.7725 - accuracy: 0.7520 - val_loss: 4.7773 - val_accuracy: 0.1039\n",
            "Epoch 61/100\n",
            "375/375 [==============================] - 1s 3ms/step - loss: 0.7559 - accuracy: 0.7588 - val_loss: 4.8320 - val_accuracy: 0.0965\n",
            "Epoch 62/100\n",
            "375/375 [==============================] - 1s 3ms/step - loss: 0.7432 - accuracy: 0.7607 - val_loss: 4.9180 - val_accuracy: 0.0977\n",
            "Epoch 63/100\n",
            "375/375 [==============================] - 1s 3ms/step - loss: 0.7280 - accuracy: 0.7651 - val_loss: 4.9570 - val_accuracy: 0.1033\n",
            "Epoch 64/100\n",
            "375/375 [==============================] - 1s 3ms/step - loss: 0.7168 - accuracy: 0.7700 - val_loss: 4.9883 - val_accuracy: 0.1015\n",
            "Epoch 65/100\n",
            "375/375 [==============================] - 1s 3ms/step - loss: 0.7012 - accuracy: 0.7725 - val_loss: 5.0664 - val_accuracy: 0.1012\n",
            "Epoch 66/100\n",
            "375/375 [==============================] - 1s 3ms/step - loss: 0.6841 - accuracy: 0.7778 - val_loss: 5.0898 - val_accuracy: 0.0976\n",
            "Epoch 67/100\n",
            "375/375 [==============================] - 1s 3ms/step - loss: 0.6748 - accuracy: 0.7808 - val_loss: 5.1953 - val_accuracy: 0.0991\n",
            "Epoch 68/100\n",
            "375/375 [==============================] - 1s 3ms/step - loss: 0.6602 - accuracy: 0.7866 - val_loss: 5.2266 - val_accuracy: 0.1013\n",
            "Epoch 69/100\n",
            "375/375 [==============================] - 2s 4ms/step - loss: 0.6523 - accuracy: 0.7881 - val_loss: 5.2734 - val_accuracy: 0.1031\n",
            "Epoch 70/100\n",
            "375/375 [==============================] - 1s 3ms/step - loss: 0.6401 - accuracy: 0.7944 - val_loss: 5.3203 - val_accuracy: 0.0991\n",
            "Epoch 71/100\n",
            "375/375 [==============================] - 1s 3ms/step - loss: 0.6255 - accuracy: 0.7939 - val_loss: 5.3555 - val_accuracy: 0.1029\n",
            "Epoch 72/100\n",
            "375/375 [==============================] - 1s 3ms/step - loss: 0.6147 - accuracy: 0.8018 - val_loss: 5.4258 - val_accuracy: 0.1029\n",
            "Epoch 73/100\n",
            "375/375 [==============================] - 1s 3ms/step - loss: 0.6045 - accuracy: 0.8032 - val_loss: inf - val_accuracy: 0.0989\n",
            "Epoch 74/100\n",
            "375/375 [==============================] - 1s 3ms/step - loss: 0.5942 - accuracy: 0.8081 - val_loss: inf - val_accuracy: 0.1005\n",
            "Epoch 75/100\n",
            "375/375 [==============================] - 1s 3ms/step - loss: 0.5825 - accuracy: 0.8081 - val_loss: inf - val_accuracy: 0.1033\n",
            "Epoch 76/100\n",
            "375/375 [==============================] - 1s 3ms/step - loss: 0.5703 - accuracy: 0.8105 - val_loss: inf - val_accuracy: 0.0985\n",
            "Epoch 77/100\n",
            "375/375 [==============================] - 1s 3ms/step - loss: 0.5615 - accuracy: 0.8169 - val_loss: inf - val_accuracy: 0.1009\n",
            "Epoch 78/100\n",
            "375/375 [==============================] - 1s 3ms/step - loss: 0.5483 - accuracy: 0.8188 - val_loss: inf - val_accuracy: 0.1031\n",
            "Epoch 79/100\n",
            "375/375 [==============================] - 1s 4ms/step - loss: 0.5381 - accuracy: 0.8262 - val_loss: inf - val_accuracy: 0.1017\n",
            "Epoch 80/100\n",
            "375/375 [==============================] - 2s 4ms/step - loss: 0.5308 - accuracy: 0.8291 - val_loss: inf - val_accuracy: 0.1000\n",
            "Epoch 81/100\n",
            "375/375 [==============================] - 1s 3ms/step - loss: 0.5151 - accuracy: 0.8389 - val_loss: inf - val_accuracy: 0.1028\n",
            "Epoch 82/100\n",
            "375/375 [==============================] - 1s 3ms/step - loss: 0.5132 - accuracy: 0.8335 - val_loss: inf - val_accuracy: 0.1011\n",
            "Epoch 83/100\n",
            "375/375 [==============================] - 1s 3ms/step - loss: 0.5010 - accuracy: 0.8389 - val_loss: inf - val_accuracy: 0.1013\n",
            "Epoch 84/100\n",
            "375/375 [==============================] - 1s 3ms/step - loss: 0.4902 - accuracy: 0.8442 - val_loss: inf - val_accuracy: 0.1008\n",
            "Epoch 85/100\n",
            "375/375 [==============================] - 1s 3ms/step - loss: 0.4854 - accuracy: 0.8408 - val_loss: inf - val_accuracy: 0.0999\n",
            "Epoch 86/100\n",
            "375/375 [==============================] - 1s 3ms/step - loss: 0.4766 - accuracy: 0.8486 - val_loss: inf - val_accuracy: 0.1009\n",
            "Epoch 87/100\n",
            "375/375 [==============================] - 1s 3ms/step - loss: 0.4651 - accuracy: 0.8521 - val_loss: inf - val_accuracy: 0.1006\n",
            "Epoch 88/100\n",
            "375/375 [==============================] - 1s 3ms/step - loss: 0.4583 - accuracy: 0.8545 - val_loss: inf - val_accuracy: 0.1024\n",
            "Epoch 89/100\n",
            "375/375 [==============================] - 1s 4ms/step - loss: 0.4507 - accuracy: 0.8555 - val_loss: inf - val_accuracy: 0.1014\n",
            "Epoch 90/100\n",
            "375/375 [==============================] - 2s 4ms/step - loss: 0.4419 - accuracy: 0.8682 - val_loss: inf - val_accuracy: 0.1004\n",
            "Epoch 91/100\n",
            "375/375 [==============================] - 1s 4ms/step - loss: 0.4355 - accuracy: 0.8638 - val_loss: inf - val_accuracy: 0.0976\n",
            "Epoch 92/100\n",
            "375/375 [==============================] - 1s 3ms/step - loss: 0.4280 - accuracy: 0.8682 - val_loss: inf - val_accuracy: 0.1016\n",
            "Epoch 93/100\n",
            "375/375 [==============================] - 1s 3ms/step - loss: 0.4216 - accuracy: 0.8726 - val_loss: inf - val_accuracy: 0.1021\n",
            "Epoch 94/100\n",
            "375/375 [==============================] - 1s 3ms/step - loss: 0.4124 - accuracy: 0.8813 - val_loss: inf - val_accuracy: 0.1017\n",
            "Epoch 95/100\n",
            "375/375 [==============================] - 1s 3ms/step - loss: 0.4067 - accuracy: 0.8789 - val_loss: inf - val_accuracy: 0.0985\n",
            "Epoch 96/100\n",
            "375/375 [==============================] - 1s 3ms/step - loss: 0.3987 - accuracy: 0.8838 - val_loss: inf - val_accuracy: 0.1017\n",
            "Epoch 97/100\n",
            "375/375 [==============================] - 1s 3ms/step - loss: 0.3896 - accuracy: 0.8813 - val_loss: inf - val_accuracy: 0.0996\n",
            "Epoch 98/100\n",
            "375/375 [==============================] - 1s 3ms/step - loss: 0.3833 - accuracy: 0.8926 - val_loss: inf - val_accuracy: 0.1038\n",
            "Epoch 99/100\n",
            "375/375 [==============================] - 1s 3ms/step - loss: 0.3799 - accuracy: 0.8921 - val_loss: inf - val_accuracy: 0.0986\n",
            "Epoch 100/100\n",
            "375/375 [==============================] - 1s 4ms/step - loss: 0.3743 - accuracy: 0.8872 - val_loss: inf - val_accuracy: 0.1000\n"
          ]
        },
        {
          "output_type": "execute_result",
          "data": {
            "text/plain": [
              "<keras.src.callbacks.History at 0x7d8790262a70>"
            ]
          },
          "metadata": {},
          "execution_count": 7
        }
      ]
    }
  ]
}